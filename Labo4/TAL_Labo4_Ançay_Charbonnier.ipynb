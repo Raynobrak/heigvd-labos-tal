{
 "cells": [
  {
   "cell_type": "markdown",
   "metadata": {},
   "source": [
    "<img src=\"https://heig-vd.ch/docs/default-source/doc-global-newsletter/2020-slim.svg\" alt=\"HEIG-VD Logo\" width=\"100\" align=\"right\" /> \n",
    "\n",
    "# Cours TAL - Laboratoire 4<br/>Reconnaissance des entités nommées\n",
    "\n",
    "**Objectif**\n",
    "\n",
    "L'objectif de ce travail est de comparer la reconnaissance des entités nommées (*named entity recognition*, NER) faite par quatre systèmes : NLTK, spaCy (deux modèles, 'en_core_web_sm' et 'en_core_web_lg'), et DistilBERT/NER.  Les données de test en anglais vous sont fournies sur Cyberlearn au format CoNLL.  Pour comparer les systèmes, on utilise la macro-moyenne des scores f1 pour chaque étiquette.  Vous pouvez concevoir l'ensemble du projet par vous-mêmes, ou suivre les indications suivantes."
   ]
  },
  {
   "cell_type": "markdown",
   "metadata": {},
   "source": [
    "## 1. NER avec spaCy et NLTK sur un texte court"
   ]
  },
  {
   "cell_type": "code",
   "execution_count": 1,
   "metadata": {},
   "outputs": [],
   "source": [
    "import spacy\n",
    "from spacy.tokens import Doc"
   ]
  },
  {
   "cell_type": "code",
   "execution_count": 2,
   "metadata": {},
   "outputs": [],
   "source": [
    "#!python -m spacy download en_core_web_sm\n",
    "# exécuter la ligne ci-dessus une fois, si nécessaire, idem pour en_core_web_lg"
   ]
  },
  {
   "cell_type": "code",
   "execution_count": 3,
   "metadata": {},
   "outputs": [],
   "source": [
    "nlp = spacy.load(\"en_core_web_sm\")"
   ]
  },
  {
   "cell_type": "code",
   "execution_count": 4,
   "metadata": {},
   "outputs": [],
   "source": [
    "raw_text = \"Reinhold Messner made a solo ascent of Mount Everest and was later a member of the European Parliament.\" "
   ]
  },
  {
   "cell_type": "markdown",
   "metadata": {},
   "source": [
    "**1a.** Veuillez traiter ce texte avec la pipeline 'nlp', et pour chaque entité nommée trouvée veuillez afficher les mots qui la composent et son type."
   ]
  },
  {
   "cell_type": "code",
   "execution_count": 5,
   "metadata": {},
   "outputs": [
    {
     "name": "stdout",
     "output_type": "stream",
     "text": [
      "Tokens and their POS tags:\n",
      "Reinhold: PROPN\n",
      "Messner: PROPN\n",
      "made: VERB\n",
      "a: DET\n",
      "solo: ADJ\n",
      "ascent: NOUN\n",
      "of: ADP\n",
      "Mount: PROPN\n",
      "Everest: PROPN\n",
      "and: CCONJ\n",
      "was: AUX\n",
      "later: ADV\n",
      "a: DET\n",
      "member: NOUN\n",
      "of: ADP\n",
      "the: DET\n",
      "European: PROPN\n",
      "Parliament: PROPN\n",
      ".: PUNCT\n"
     ]
    }
   ],
   "source": [
    "doc = nlp(raw_text)\n",
    "\n",
    "print(\"Tokens and their POS tags:\")\n",
    "for token in doc:\n",
    "    print(f\"{token.text}: {token.pos_}\")"
   ]
  },
  {
   "cell_type": "code",
   "execution_count": 6,
   "metadata": {},
   "outputs": [],
   "source": [
    "import nltk\n",
    "#nltk.download('maxent_ne_chunker') \n",
    "#nltk.download('words') \n",
    "# exécuter les deux lignes ci-dessus une fois, si nécessaire"
   ]
  },
  {
   "cell_type": "markdown",
   "metadata": {},
   "source": [
    "**1b.** Veuillez effectuer avec NLTK la tokenization, le POS tagging et le *NE chunking* de `raw_text` (voir la [documentation NLTK](https://www.nltk.org/api/nltk.chunk.ne_chunk.html#nltk.chunk.ne_chunk)).  Veuillez afficher le résultat et indiquer son type."
   ]
  },
  {
   "cell_type": "code",
   "execution_count": 7,
   "metadata": {},
   "outputs": [],
   "source": [
    "from nltk import ne_chunk, pos_tag, word_tokenize\n",
    "from nltk.tree import Tree\n",
    "\n",
    "def extract_entities(text):\n",
    "    # Tokenize the text\n",
    "    tokens = word_tokenize(text)\n",
    "    \n",
    "    # Perform POS tagging\n",
    "    pos_tags = pos_tag(tokens)\n",
    "    \n",
    "    # Perform Named Entity Recognition\n",
    "    named_entities = ne_chunk(pos_tags)\n",
    "\n",
    "    entities = []\n",
    "    for subtree in named_entities:\n",
    "        if isinstance(subtree, Tree):\n",
    "            entity_name = \" \".join([word for word, tag in subtree.leaves()])\n",
    "            entity_type = subtree.label()\n",
    "            entities.append((entity_name, entity_type))\n",
    "    \n",
    "    return entities, named_entities"
   ]
  },
  {
   "cell_type": "code",
   "execution_count": 8,
   "metadata": {},
   "outputs": [
    {
     "name": "stdout",
     "output_type": "stream",
     "text": [
      "\n",
      "Named Entities:\n",
      "Reinhold: PERSON\n",
      "Messner: PERSON\n",
      "Mount Everest: PERSON\n",
      "European Parliament: ORGANIZATION\n"
     ]
    }
   ],
   "source": [
    "entities, named_entities = extract_entities(raw_text)\n",
    "\n",
    "print(\"\\nNamed Entities:\")\n",
    "for entity in entities:\n",
    "    print(f\"{entity[0]}: {entity[1]}\")\n"
   ]
  },
  {
   "cell_type": "markdown",
   "metadata": {},
   "source": [
    "**1c.** Veuillez afficher, pour chaque entité nommée, les mots qui la composent et son type.  Vous pouvez parcourir le résultat précédent avec une boucle `for`, et déterminer si un noeud possède une étiquette avec la fonction `hasattr(noeud, 'label')`."
   ]
  },
  {
   "cell_type": "code",
   "execution_count": 9,
   "metadata": {},
   "outputs": [],
   "source": [
    "def print_tree(tree, indent=\"  \"):\n",
    "    if isinstance(tree, Tree):\n",
    "        print(indent + str(tree.label()))\n",
    "        for child in tree:\n",
    "            print_tree(child, indent + \"  \")\n",
    "    else:\n",
    "        print(indent + str(tree))\n"
   ]
  },
  {
   "cell_type": "code",
   "execution_count": 10,
   "metadata": {},
   "outputs": [
    {
     "name": "stdout",
     "output_type": "stream",
     "text": [
      "  S\n",
      "    PERSON\n",
      "      ('Reinhold', 'NNP')\n",
      "    PERSON\n",
      "      ('Messner', 'NNP')\n",
      "    ('made', 'VBD')\n",
      "    ('a', 'DT')\n",
      "    ('solo', 'JJ')\n",
      "    ('ascent', 'NN')\n",
      "    ('of', 'IN')\n",
      "    PERSON\n",
      "      ('Mount', 'NNP')\n",
      "      ('Everest', 'NNP')\n",
      "    ('and', 'CC')\n",
      "    ('was', 'VBD')\n",
      "    ('later', 'RB')\n",
      "    ('a', 'DT')\n",
      "    ('member', 'NN')\n",
      "    ('of', 'IN')\n",
      "    ('the', 'DT')\n",
      "    ORGANIZATION\n",
      "      ('European', 'NNP')\n",
      "      ('Parliament', 'NNP')\n",
      "    ('.', '.')\n"
     ]
    }
   ],
   "source": [
    "print_tree(named_entities)"
   ]
  },
  {
   "cell_type": "markdown",
   "metadata": {},
   "source": [
    "**1d.** À ce stade, que pensez-vous de la qualité des résultats de chaque système ?"
   ]
  },
  {
   "cell_type": "markdown",
   "metadata": {},
   "source": [
    "*Réponse :*\n",
    "\n",
    "*Nltk est plus précis que spacy. Il donne aussi plus d'informations sur les entités nommées. Par exemple, il donne le type de l'entité nommée (personne, organisation, etc.) et lie les entités qui le sont. Par exemple ici, \"Mount Everest\" est une seul entité nommée, alors que spacy le découpe en deux entités nommées. Il y a aussi quelques différences sur les type des mots comme avec \"was\" qui est un \"AUX\" pour Spacy et un \"VBD\" pour Nltk.*"
   ]
  },
  {
   "cell_type": "markdown",
   "metadata": {},
   "source": [
    "## 2. Prise en main des données de test\n",
    "\n",
    "**2a.** Quel est le format du fichier `eng.test.a.conll` ?  Quelle information contient chaque colonne ?  Quel est le format des tags NE ?\n",
    "\n",
    "Note : ce fichier fait partie des données de test pour la NER sur l'anglais de la conférence [CoNLL](https://www.clips.uantwerpen.be/pages/past-workshops) 2003. On peut lire [ici](https://www.clips.uantwerpen.be/conll2003/ner/) la description de la tâche et les scores obtenus.  On peut trouver une copie des données [ici](https://sourceforge.net/p/text-analysis/svn/1243/tree/text-analysis/trunk/Corpora/CoNLL/2003/) ou [ici](https://github.com/synalp/NER/tree/master/corpus/CoNLL-2003).  Les textes proviennent du [corpus Reuters](http://trec.nist.gov/data/reuters/reuters.html)."
   ]
  },
  {
   "cell_type": "markdown",
   "metadata": {},
   "source": [
    "The first item on each line is a word, the second a part-of-speech (POS) tag, the third a syntactic chunk tag and the fourth the named entity tag.\n",
    "\n",
    "*Réponse :*\n",
    "\n",
    "*Le format du fichier est un fichier texte avec une ligne par mot. Chaque ligne contient 4 colonnes séparées par des espaces. La première colonne contient le mot, la deuxième le tag de la partie du discours (POS), la troisième le tag de la syntaxe et la quatrième le tag de l'entité nommée (NE).*\n",
    "\n",
    "*Le format des tags NE est I-TYPE, ce qui signifie que le mot se trouve à l'intérieur d'une phrase de type TYPE. Ce n'est que si deux phrases du même type se suivent immédiatement que le premier mot de la deuxième phrase aura l'étiquette B-TYPE pour montrer qu'il commence une nouvelle phrase. Un mot portant l'étiquette O ne fait pas partie d'une phrase. TYPE peut être PER (personne), LOC (lieu), ORG (organisation) ou MISC (divers).*"
   ]
  },
  {
   "cell_type": "markdown",
   "metadata": {},
   "source": [
    "**2b.** Veuillez charger les données de `eng.test.a.conll` grâce à la classe `ConllCorpusReader` de NLTK vue dans les labos précédents (voir [documentation](https://www.nltk.org/api/nltk.corpus.reader.conll.html#nltk.corpus.reader.conll.ConllCorpusReader)). Veuillez lire les colonnes qui contiennent les tokens ('words'), les POS tags ('pos') et les informations sur les entités nommées ('chunk') et afficher les quatre premières phrases, accessibles via la méthode `.iob_sents()`."
   ]
  },
  {
   "cell_type": "code",
   "execution_count": 11,
   "metadata": {},
   "outputs": [],
   "source": [
    "from nltk.corpus.reader.conll import ConllCorpusReader"
   ]
  },
  {
   "cell_type": "code",
   "execution_count": 12,
   "metadata": {},
   "outputs": [],
   "source": [
    "conll_corpus = ConllCorpusReader('.', 'eng.test.a.conll', ['words', 'pos', 'ignore', 'chunk'])"
   ]
  },
  {
   "cell_type": "code",
   "execution_count": 13,
   "metadata": {},
   "outputs": [
    {
     "name": "stdout",
     "output_type": "stream",
     "text": [
      "\n",
      "Conll Corpus:\n",
      "[('CRICKET', 'NNP', 'O'), ('-', ':', 'O'), ('LEICESTERSHIRE', 'NNP', 'I-ORG'), ('TAKE', 'NNP', 'O'), ('OVER', 'IN', 'O'), ('AT', 'NNP', 'O'), ('TOP', 'NNP', 'O'), ('AFTER', 'NNP', 'O'), ('INNINGS', 'NNP', 'O'), ('VICTORY', 'NN', 'O'), ('.', '.', 'O')]\n",
      "[('LONDON', 'NNP', 'I-LOC'), ('1996-08-30', 'CD', 'O')]\n",
      "[('West', 'NNP', 'I-MISC'), ('Indian', 'NNP', 'I-MISC'), ('all-rounder', 'NN', 'O'), ('Phil', 'NNP', 'I-PER'), ('Simmons', 'NNP', 'I-PER'), ('took', 'VBD', 'O'), ('four', 'CD', 'O'), ('for', 'IN', 'O'), ('38', 'CD', 'O'), ('on', 'IN', 'O'), ('Friday', 'NNP', 'O'), ('as', 'IN', 'O'), ('Leicestershire', 'NNP', 'I-ORG'), ('beat', 'VBD', 'O'), ('Somerset', 'NNP', 'I-ORG'), ('by', 'IN', 'O'), ('an', 'DT', 'O'), ('innings', 'NN', 'O'), ('and', 'CC', 'O'), ('39', 'CD', 'O'), ('runs', 'NNS', 'O'), ('in', 'IN', 'O'), ('two', 'CD', 'O'), ('days', 'NNS', 'O'), ('to', 'TO', 'O'), ('take', 'VB', 'O'), ('over', 'IN', 'O'), ('at', 'IN', 'O'), ('the', 'DT', 'O'), ('head', 'NN', 'O'), ('of', 'IN', 'O'), ('the', 'DT', 'O'), ('county', 'NN', 'O'), ('championship', 'NN', 'O'), ('.', '.', 'O')]\n",
      "[('Their', 'PRP$', 'O'), ('stay', 'NN', 'O'), ('on', 'IN', 'O'), ('top', 'NN', 'O'), (',', ',', 'O'), ('though', 'RB', 'O'), (',', ',', 'O'), ('may', 'MD', 'O'), ('be', 'VB', 'O'), ('short-lived', 'JJ', 'O'), ('as', 'IN', 'O'), ('title', 'NN', 'O'), ('rivals', 'NNS', 'O'), ('Essex', 'NNP', 'I-ORG'), (',', ',', 'O'), ('Derbyshire', 'NNP', 'I-ORG'), ('and', 'CC', 'O'), ('Surrey', 'NNP', 'I-ORG'), ('all', 'DT', 'O'), ('closed', 'VBD', 'O'), ('in', 'RP', 'O'), ('on', 'IN', 'O'), ('victory', 'NN', 'O'), ('while', 'IN', 'O'), ('Kent', 'NNP', 'I-ORG'), ('made', 'VBD', 'O'), ('up', 'RP', 'O'), ('for', 'IN', 'O'), ('lost', 'VBN', 'O'), ('time', 'NN', 'O'), ('in', 'IN', 'O'), ('their', 'PRP$', 'O'), ('rain-affected', 'JJ', 'O'), ('match', 'NN', 'O'), ('against', 'IN', 'O'), ('Nottinghamshire', 'NNP', 'I-ORG'), ('.', '.', 'O')]\n"
     ]
    }
   ],
   "source": [
    "print(\"\\nConll Corpus:\")\n",
    "for sentence in conll_corpus.iob_sents()[1:5]:\n",
    "    print(sentence)"
   ]
  },
  {
   "cell_type": "markdown",
   "metadata": {},
   "source": [
    "**2c.** Veuillez préparer les données pour le test, en ne gardant que les phrases ayant au moins trois (3) tokens (pas 0, 1, 2) :\n",
    "\n",
    "* une variable `test_tokens` contiendra les tokens groupés par phrase (liste de listes de strings)\n",
    "* une variable `test_tags` contiendra tous les tags NE en une seule liste (en vue de l'évaluation)"
   ]
  },
  {
   "cell_type": "code",
   "execution_count": 14,
   "metadata": {},
   "outputs": [],
   "source": [
    "test_tags = []\n",
    "test_tokens = []\n",
    "\n",
    "for sentence in conll_corpus.iob_sents():\n",
    "    tokens_length = len(sentence)\n",
    "    if tokens_length >= 3: # Ignore sentences with less than 3 tokens\n",
    "        test_tokens.append([token for token, _, _ in sentence]) # Extract tokens\n",
    "        for _, _, tag in sentence: # Extract tags\n",
    "            test_tags.append(tag)"
   ]
  },
  {
   "cell_type": "code",
   "execution_count": 15,
   "metadata": {},
   "outputs": [
    {
     "name": "stdout",
     "output_type": "stream",
     "text": [
      "\n",
      "Exemple Test Tokens:\n",
      "['CRICKET', '-', 'LEICESTERSHIRE', 'TAKE', 'OVER', 'AT', 'TOP', 'AFTER', 'INNINGS', 'VICTORY', '.']\n",
      "['West', 'Indian', 'all-rounder', 'Phil', 'Simmons', 'took', 'four', 'for', '38', 'on', 'Friday', 'as', 'Leicestershire', 'beat', 'Somerset', 'by', 'an', 'innings', 'and', '39', 'runs', 'in', 'two', 'days', 'to', 'take', 'over', 'at', 'the', 'head', 'of', 'the', 'county', 'championship', '.']\n",
      "['Their', 'stay', 'on', 'top', ',', 'though', ',', 'may', 'be', 'short-lived', 'as', 'title', 'rivals', 'Essex', ',', 'Derbyshire', 'and', 'Surrey', 'all', 'closed', 'in', 'on', 'victory', 'while', 'Kent', 'made', 'up', 'for', 'lost', 'time', 'in', 'their', 'rain-affected', 'match', 'against', 'Nottinghamshire', '.']\n",
      "['After', 'bowling', 'Somerset', 'out', 'for', '83', 'on', 'the', 'opening', 'morning', 'at', 'Grace', 'Road', ',', 'Leicestershire', 'extended', 'their', 'first', 'innings', 'by', '94', 'runs', 'before', 'being', 'bowled', 'out', 'for', '296', 'with', 'England', 'discard', 'Andy', 'Caddick', 'taking', 'three', 'for', '83', '.']\n",
      "['Trailing', 'by', '213', ',', 'Somerset', 'got', 'a', 'solid', 'start', 'to', 'their', 'second', 'innings', 'before', 'Simmons', 'stepped', 'in', 'to', 'bundle', 'them', 'out', 'for', '174', '.']\n",
      "\n",
      "Exemple Test Tags:\n",
      "O\n",
      "O\n",
      "I-ORG\n",
      "O\n",
      "O\n",
      "O\n",
      "O\n",
      "O\n",
      "O\n",
      "O\n",
      "O\n",
      "I-MISC\n"
     ]
    }
   ],
   "source": [
    "print(\"\\nExemple Test Tokens:\")\n",
    "for tokens in test_tokens[:5]:\n",
    "    print(tokens)\n",
    "\n",
    "print(\"\\nExemple Test Tags:\")\n",
    "for tags in test_tags[:12]:\n",
    "    print(tags)"
   ]
  },
  {
   "cell_type": "markdown",
   "metadata": {},
   "source": [
    "**2d.** Combien d'occurrences de tags contient `test_tags`?  Combien de tags différents y a-t-il, et lesquels sont-ils ?  Combien il y a d'occurrences de tags de chaque type ?  Combien de phrases y a-t-il dans `test_tokens` ?"
   ]
  },
  {
   "cell_type": "code",
   "execution_count": 16,
   "metadata": {},
   "outputs": [
    {
     "name": "stdout",
     "output_type": "stream",
     "text": [
      "Nombre d'occurences de test_tags: 50817\n",
      "Nombre de tags uniques: 5\n",
      "{'O', 'I-MISC', 'I-PER', 'I-ORG', 'I-LOC'}\n",
      "Nombre d'occurences de chaque tag: {'O': 42474, 'I-MISC': 1228, 'I-PER': 3097, 'I-ORG': 2080, 'I-LOC': 1938}\n",
      "Nombre de phrases dans le corpus de test: 2970\n"
     ]
    }
   ],
   "source": [
    "print(\"Nombre d'occurences de test_tags: \" + str(len(test_tags)))\n",
    "print(\"Nombre de tags uniques: \" + str(len(set(test_tags))))\n",
    "print(set(test_tags))\n",
    "print(\"Nombre d'occurences de chaque tag: \" + str({tag: test_tags.count(tag) for tag in set(test_tags)}))\n",
    "\n",
    "print(\"Nombre de phrases dans le corpus de test: \" + str(len(test_tokens)))"
   ]
  },
  {
   "cell_type": "markdown",
   "metadata": {},
   "source": [
    "## 3. Performances de NLTK pour la NER\n",
    "\n",
    "**3a.** Le NER de NLTK a un jeu de tags différents de celui des données de test.  Veuillez chercher les informations pour compléter la fonction suivante qui convertit chaque tag du NER de NLTK vers le tag correspondant pour les données de test. "
   ]
  },
  {
   "cell_type": "code",
   "execution_count": 17,
   "metadata": {},
   "outputs": [],
   "source": [
    "def convert_nltk_conll(nltk_tag):\n",
    "  corresp = {\n",
    "    'O': 'O',\n",
    "    'ORGANIZATION': 'I-ORG',\n",
    "    'PERSON': 'I-PER',\n",
    "    'LOCATION': 'I-LOC',\n",
    "    'GPE': 'I-LOC',\n",
    "    'FACILITY': 'I-LOC',\n",
    "    'MISC': 'I-MISC'\n",
    "  }\n",
    "  return corresp.get(nltk_tag, 'I-MISC')\n",
    "                \n"
   ]
  },
  {
   "cell_type": "markdown",
   "metadata": {},
   "source": [
    "**3b.** Veuillez exécuter la NER de NLTK sur chacune des phrases de `test_tokens`, ce qui assure que NLTK aura la même tokenisation que les données de référence.  Veuillez stocker les tags dans une liste unique appelée `nltk_tags`."
   ]
  },
  {
   "cell_type": "code",
   "execution_count": 18,
   "metadata": {},
   "outputs": [],
   "source": [
    "nltk_tags = []\n",
    "\n",
    "for sentence in test_tokens:\n",
    "    chunks = nltk.ne_chunk(nltk.pos_tag(sentence))\n",
    "    for subtree in chunks:\n",
    "        if hasattr(subtree, 'label'):\n",
    "            nltk_tags += [subtree.label() for leaf in subtree.leaves()]\n",
    "        else:\n",
    "            nltk_tags.append('O')\n"
   ]
  },
  {
   "cell_type": "markdown",
   "metadata": {},
   "source": [
    "**3c.** Veuillez convertir les tags de `nltk_tags` grâce à la fonction précédente, dans une liste appelée `nltk_tags_conv`.  Veuillez afficher le nombre total de tags et les dix premiers.  Vous pouvez plusieurs essais en changeant la fonction, pour aboutir à la conversion qui maximise le score."
   ]
  },
  {
   "cell_type": "code",
   "execution_count": 19,
   "metadata": {},
   "outputs": [
    {
     "name": "stdout",
     "output_type": "stream",
     "text": [
      "TEST\tNLTK\tCONNLU\n",
      "O \t GPE \t I-LOC\n",
      "O \t O \t O\n",
      "I-ORG \t ORGANIZATION \t I-ORG\n",
      "O \t O \t O\n",
      "O \t O \t O\n",
      "O \t O \t O\n",
      "O \t ORGANIZATION \t I-ORG\n",
      "O \t O \t O\n",
      "O \t ORGANIZATION \t I-ORG\n",
      "O \t O \t O\n"
     ]
    }
   ],
   "source": [
    "nltk_tags_conv = [convert_nltk_conll(tag) for tag in nltk_tags]\n",
    "\n",
    "print('TEST\\tNLTK\\tCONNLU')\n",
    "for i in range(10):\n",
    "    print(test_tags[i],'\\t',nltk_tags[i],'\\t',nltk_tags_conv[i])\n"
   ]
  },
  {
   "cell_type": "markdown",
   "metadata": {},
   "source": [
    "**3d.** Veuillez afficher le rapport d'évaluation de classification obtenu de Scikit-learn et la matrice de confusion pour tous les types de tags apparaissant dans les données de test."
   ]
  },
  {
   "cell_type": "code",
   "execution_count": 20,
   "metadata": {},
   "outputs": [
    {
     "name": "stdout",
     "output_type": "stream",
     "text": [
      "Classification Report :\n",
      "\n",
      "              precision    recall  f1-score   support\n",
      "\n",
      "       I-LOC       0.55      0.72      0.62      1938\n",
      "      I-MISC       0.16      0.01      0.01      1228\n",
      "       I-ORG       0.51      0.35      0.41      2080\n",
      "       I-PER       0.77      0.74      0.76      3097\n",
      "           O       0.96      0.99      0.97     42474\n",
      "\n",
      "    accuracy                           0.91     50817\n",
      "   macro avg       0.59      0.56      0.56     50817\n",
      "weighted avg       0.89      0.91      0.90     50817\n",
      "\n"
     ]
    },
    {
     "data": {
      "image/png": "[encoded data removed]",
      "text/plain": [
       "<Figure size 640x480 with 2 Axes>"
      ]
     },
     "metadata": {},
     "output_type": "display_data"
    }
   ],
   "source": [
    "from sklearn.metrics import confusion_matrix, ConfusionMatrixDisplay, classification_report\n",
    "import matplotlib.pyplot as plt\n",
    "\n",
    "report = classification_report(test_tags, nltk_tags_conv)\n",
    "print(\"Classification Report :\\n\")\n",
    "print(report)\n",
    "\n",
    "cm = confusion_matrix(test_tags, nltk_tags_conv, labels=list(set(test_tags + nltk_tags_conv)))\n",
    "\n",
    "disp = ConfusionMatrixDisplay(confusion_matrix=cm, display_labels=list(set(test_tags + nltk_tags_conv)))\n",
    "disp.plot(xticks_rotation=45, cmap='Blues')\n",
    "plt.title('Matrice de confusion')\n",
    "plt.tight_layout()\n",
    "plt.show()"
   ]
  },
  {
   "cell_type": "markdown",
   "metadata": {},
   "source": [
    "## 4. Performances de spaCy pour la NER\n",
    "\n",
    "**4a.** Le NER de spaCy a aussi un jeu de tags différents de celui des données de test.  Veuillez chercher les informations pour compléter la fonction suivante qui convertir chaque tag du NER de spaCy dans le tag correspondant pour les données de test.  Attention à la logique des conversions. "
   ]
  },
  {
   "cell_type": "code",
   "execution_count": 21,
   "metadata": {},
   "outputs": [],
   "source": [
    "def convert_spacy_conll(spacy_tag):\n",
    "    if spacy_tag in [\"PERSON\"]:\n",
    "        return \"I-PER\"\n",
    "    elif spacy_tag in [\"ORG\"]:\n",
    "        return \"I-ORG\"\n",
    "    elif spacy_tag in [\"GPE\", \"LOC\", \"FAC\"]:\n",
    "        return \"I-LOC\"\n",
    "    elif spacy_tag in [\"NORP\", \"EVENT\", \"WORK_OF_ART\", \"LANGUAGE\", \"LAW\", \"PRODUCT\"]:\n",
    "        return \"I-MISC\"\n",
    "    else:\n",
    "        return \"O\""
   ]
  },
  {
   "cell_type": "markdown",
   "metadata": {},
   "source": [
    "**4b.** Veuillez exécuter la NER de spaCy sur chacune des phrases de `test_tokens`, ce qui assure que spaCy aura la même tokenisation que les données de référence.  Veuillez stocker les tags dans une liste unique appelée `spacy_tags`."
   ]
  },
  {
   "cell_type": "code",
   "execution_count": 22,
   "metadata": {},
   "outputs": [],
   "source": [
    "import spacy\n",
    "from spacy.tokens import Doc\n",
    "\n",
    "# Charger le modèle de base\n",
    "nlp = spacy.load(\"en_core_web_sm\")\n",
    "\n",
    "spacy_tags = []\n",
    "\n",
    "for sentence in test_tokens:\n",
    "    # Créer un Doc à partir des tokens originaux\n",
    "    doc = Doc(nlp.vocab, words=sentence)\n",
    "    # Appliquer le pipeline spaCy (ner notamment)\n",
    "    doc = nlp(doc)\n",
    "\n",
    "    # Récupérer les entités token par token\n",
    "    for token in doc:\n",
    "        if token.ent_iob_ == \"O\":\n",
    "            spacy_tags.append(\"O\")\n",
    "        else:\n",
    "            spacy_tags.append(token.ent_type_)\n"
   ]
  },
  {
   "cell_type": "markdown",
   "metadata": {},
   "source": [
    "**4c.** Veuillez convertir les tags de `spacy_tags` grâce à la fonction précédente, dans une liste appelée `spacy_tags_conv`.  Veuillez afficher le nombre total de tags et les dix premiers.  Vous pouvez plusieurs essais en changeant la fonction, pour aboutir à la conversion qui maximise le score."
   ]
  },
  {
   "cell_type": "code",
   "execution_count": 23,
   "metadata": {},
   "outputs": [
    {
     "name": "stdout",
     "output_type": "stream",
     "text": [
      "Nombre total de tags : 50817\n",
      "10 premiers tags convertis : ['O', 'O', 'O', 'O', 'O', 'O', 'O', 'O', 'O', 'O']\n",
      "Score F1 pondéré : 0.9271\n"
     ]
    }
   ],
   "source": [
    "from sklearn.metrics import f1_score\n",
    "\n",
    "# Conversion des tags spaCy en tags CoNLL\n",
    "spacy_tags_conv = [convert_spacy_conll(tag) for tag in spacy_tags]\n",
    "\n",
    "# Affichage\n",
    "print(\"Nombre total de tags :\", len(spacy_tags_conv))\n",
    "print(\"10 premiers tags convertis :\", spacy_tags_conv[:10])\n",
    "\n",
    "# Score\n",
    "f1 = f1_score(test_tags, spacy_tags_conv, average=\"weighted\", zero_division=0)\n",
    "print(f\"Score F1 pondéré : {f1:.4f}\")"
   ]
  },
  {
   "cell_type": "markdown",
   "metadata": {},
   "source": [
    "**4d.** Veuillez afficher le rapport d'évaluation de classification obtenu de Scikit-learn et la matrice de confusion pour tous les types de tags apparaissant dans les données de test."
   ]
  },
  {
   "cell_type": "code",
   "execution_count": 24,
   "metadata": {},
   "outputs": [
    {
     "name": "stdout",
     "output_type": "stream",
     "text": [
      "Classification Report :\n",
      "\n",
      "              precision    recall  f1-score   support\n",
      "\n",
      "       I-LOC       0.79      0.80      0.80      1938\n",
      "      I-MISC       0.70      0.62      0.66      1228\n",
      "       I-ORG       0.52      0.52      0.52      2080\n",
      "       I-PER       0.83      0.71      0.77      3097\n",
      "           O       0.97      0.98      0.97     42474\n",
      "\n",
      "    accuracy                           0.93     50817\n",
      "   macro avg       0.76      0.73      0.74     50817\n",
      "weighted avg       0.93      0.93      0.93     50817\n",
      "\n"
     ]
    },
    {
     "data": {
      "image/png": "[encoded data removed]",
      "text/plain": [
       "<Figure size 640x480 with 2 Axes>"
      ]
     },
     "metadata": {},
     "output_type": "display_data"
    }
   ],
   "source": [
    "from sklearn.metrics import confusion_matrix, ConfusionMatrixDisplay, classification_report\n",
    "import matplotlib.pyplot as plt\n",
    "\n",
    "report = classification_report(test_tags, spacy_tags_conv)\n",
    "print(\"Classification Report :\\n\")\n",
    "print(report)\n",
    "\n",
    "cm = confusion_matrix(test_tags, spacy_tags_conv, labels=list(set(test_tags + spacy_tags_conv)))\n",
    "\n",
    "disp = ConfusionMatrixDisplay(confusion_matrix=cm, display_labels=list(set(test_tags + spacy_tags_conv)))\n",
    "disp.plot(xticks_rotation=45, cmap='Blues')\n",
    "plt.title('Matrice de confusion')\n",
    "plt.tight_layout()\n",
    "plt.show()"
   ]
  },
  {
   "cell_type": "markdown",
   "metadata": {},
   "source": [
    "**4e.** Veuillez exécuter également le modèle 'en_core_web_lg' de spacy et afficher le rapport d'évaluation (il n'est pas demander d'afficher la matrice de confusion).  Vous pouvez recopier ici le minimum de code nécessaire à l'obtention des résultats, avec une nouvelle pipeline spaCy appelée 'nlp2'."
   ]
  },
  {
   "cell_type": "code",
   "execution_count": 25,
   "metadata": {},
   "outputs": [],
   "source": [
    "#!python -m spacy download en_core_web_lg\n"
   ]
  },
  {
   "cell_type": "code",
   "execution_count": 26,
   "metadata": {},
   "outputs": [
    {
     "name": "stdout",
     "output_type": "stream",
     "text": [
      "              precision    recall  f1-score   support\n",
      "\n",
      "       I-LOC       0.75      0.87      0.81      1938\n",
      "      I-MISC       0.84      0.67      0.74      1228\n",
      "       I-ORG       0.55      0.60      0.58      2080\n",
      "       I-PER       0.91      0.82      0.86      3097\n",
      "           O       0.98      0.98      0.98     42474\n",
      "\n",
      "    accuracy                           0.94     50817\n",
      "   macro avg       0.81      0.79      0.79     50817\n",
      "weighted avg       0.94      0.94      0.94     50817\n",
      "\n"
     ]
    }
   ],
   "source": [
    "nlp2 = spacy.load(\"en_core_web_lg\")\n",
    "\n",
    "spacy_tags_lg = []\n",
    "\n",
    "for sentence in test_tokens:\n",
    "    doc = Doc(nlp2.vocab, words=sentence)\n",
    "    doc = nlp2(doc)\n",
    "    for token in doc:\n",
    "        if token.ent_iob_ == \"O\":\n",
    "            spacy_tags_lg.append(\"O\")\n",
    "        else:\n",
    "            spacy_tags_lg.append(token.ent_type_)\n",
    "\n",
    "spacy_tags_conv_lg = [convert_spacy_conll(tag) for tag in spacy_tags_lg]\n",
    "\n",
    "# rapport\n",
    "print(classification_report(test_tags, spacy_tags_conv_lg, zero_division=0))"
   ]
  },
  {
   "cell_type": "markdown",
   "metadata": {},
   "source": [
    "## 5. Utilisation d'embeddings contextualisés fournis par BERT\n",
    "\n",
    "Dans cette section, vous allez évaluer un modèle basé sur le Transformer, qui fournit des embeddings contextualisés pour chaque token.  Ces embeddings sont ensuite utilisés par une couche finale (appelée _NER head_) pour assigner à chaque token une étiquette indiquant les entités nommées.  Le modèle et les instructions pour l'utiliser sont disponibles ici : https://huggingface.co/dslim/distilbert-NER (il s'agit d'une version de BERT \"distillée\" dans un modèle plus léger, suivi du _NER head_).\n",
    "\n",
    "**5a.** Prise en main du modèle : à l'aide des exemples fournis sur Hugging Face, veuillez appliquer DistilBERT_NER sur les 3 premières phrases des données contenues dans `test_tokens` (voir le point 2c) et afficher les résultats obtenus.  Quelles sont les différences avec les résultats de NLTK et de spaCy ?"
   ]
  },
  {
   "cell_type": "code",
   "execution_count": 27,
   "metadata": {},
   "outputs": [
    {
     "name": "stdout",
     "output_type": "stream",
     "text": [
      "WARNING:tensorflow:From c:\\Users\\lcsch\\anaconda3\\envs\\data-science\\Lib\\site-packages\\tf_keras\\src\\losses.py:2976: The name tf.losses.sparse_softmax_cross_entropy is deprecated. Please use tf.compat.v1.losses.sparse_softmax_cross_entropy instead.\n",
      "\n",
      "WARNING:tensorflow:From c:\\Users\\lcsch\\anaconda3\\envs\\data-science\\Lib\\site-packages\\tf_keras\\src\\backend.py:873: The name tf.get_default_graph is deprecated. Please use tf.compat.v1.get_default_graph instead.\n",
      "\n"
     ]
    },
    {
     "name": "stderr",
     "output_type": "stream",
     "text": [
      "All PyTorch model weights were used when initializing TFBertForTokenClassification.\n",
      "\n",
      "All the weights of TFBertForTokenClassification were initialized from the PyTorch model.\n",
      "If your task is similar to the task the model of the checkpoint was trained on, you can already use TFBertForTokenClassification for predictions without further training.\n",
      "Device set to use 0\n"
     ]
    },
    {
     "name": "stdout",
     "output_type": "stream",
     "text": [
      "Phrase 1: CRICKET - LEICESTERSHIRE TAKE OVER AT TOP AFTER INNINGS VICTORY .\n",
      "Résultats BERT NER :\n",
      "[]\n",
      "--------------------------------------------------------------------------------\n",
      "Phrase 2: West Indian all-rounder Phil Simmons took four for 38 on Friday as Leicestershire beat Somerset by an innings and 39 runs in two days to take over at the head of the county championship .\n",
      "Résultats BERT NER :\n",
      "[{'entity_group': 'MISC', 'score': np.float32(0.9961403), 'word': 'West Indian', 'start': np.int32(0), 'end': np.int32(11)}, {'entity_group': 'PER', 'score': np.float32(0.999735), 'word': 'Phil Simmons', 'start': np.int32(24), 'end': np.int32(36)}, {'entity_group': 'ORG', 'score': np.float32(0.9995023), 'word': 'Leicestershire', 'start': np.int32(67), 'end': np.int32(81)}, {'entity_group': 'ORG', 'score': np.float32(0.9995048), 'word': 'Somerset', 'start': np.int32(87), 'end': np.int32(95)}]\n",
      "--------------------------------------------------------------------------------\n",
      "Phrase 3: Their stay on top , though , may be short-lived as title rivals Essex , Derbyshire and Surrey all closed in on victory while Kent made up for lost time in their rain-affected match against Nottinghamshire .\n",
      "Résultats BERT NER :\n",
      "[{'entity_group': 'ORG', 'score': np.float32(0.99959594), 'word': 'Essex', 'start': np.int32(64), 'end': np.int32(69)}, {'entity_group': 'ORG', 'score': np.float32(0.99947065), 'word': 'Derbyshire', 'start': np.int32(72), 'end': np.int32(82)}, {'entity_group': 'ORG', 'score': np.float32(0.9995284), 'word': 'Surrey', 'start': np.int32(87), 'end': np.int32(93)}, {'entity_group': 'ORG', 'score': np.float32(0.9994981), 'word': 'Kent', 'start': np.int32(125), 'end': np.int32(129)}, {'entity_group': 'ORG', 'score': np.float32(0.99940014), 'word': 'Nottinghamshire', 'start': np.int32(189), 'end': np.int32(204)}]\n",
      "--------------------------------------------------------------------------------\n"
     ]
    }
   ],
   "source": [
    "from transformers import pipeline, AutoTokenizer, TFAutoModelForTokenClassification\n",
    "\n",
    "# Création du tokenizer, modèle et pipeline\n",
    "tokenizer = AutoTokenizer.from_pretrained(\"dslim/bert-base-NER\")\n",
    "model = TFAutoModelForTokenClassification.from_pretrained(\"dslim/bert-base-NER\")\n",
    "distilbert_ner = pipeline(\"ner\", model=model, tokenizer=tokenizer, aggregation_strategy=\"simple\")\n",
    "\n",
    "# Affichage des résultats sur les 3 premières phrases\n",
    "for i in range(3):\n",
    "    sentence = ' '.join(test_tokens[i])\n",
    "    print(f\"Phrase {i+1}: {sentence}\")\n",
    "    print(\"Résultats BERT NER :\")\n",
    "    print(distilbert_ner(sentence))\n",
    "    print(\"-\" * 80)"
   ]
  },
  {
   "cell_type": "code",
   "execution_count": 28,
   "metadata": {},
   "outputs": [
    {
     "name": "stdout",
     "output_type": "stream",
     "text": [
      "\n",
      "Phrase 1 : CRICKET - LEICESTERSHIRE TAKE OVER AT TOP AFTER INNINGS VICTORY .\n",
      "Résultat de la pipeline BERT :\n",
      "[]\n",
      "\n",
      "Phrase 2 : West Indian all-rounder Phil Simmons took four for 38 on Friday as Leicestershire beat Somerset by an innings and 39 runs in two days to take over at the head of the county championship .\n",
      "Résultat de la pipeline BERT :\n",
      "[{'entity_group': 'MISC', 'score': np.float32(0.9961403), 'word': 'West Indian', 'start': np.int32(0), 'end': np.int32(11)}, {'entity_group': 'PER', 'score': np.float32(0.999735), 'word': 'Phil Simmons', 'start': np.int32(24), 'end': np.int32(36)}, {'entity_group': 'ORG', 'score': np.float32(0.9995023), 'word': 'Leicestershire', 'start': np.int32(67), 'end': np.int32(81)}, {'entity_group': 'ORG', 'score': np.float32(0.9995048), 'word': 'Somerset', 'start': np.int32(87), 'end': np.int32(95)}]\n",
      "\n",
      "Phrase 3 : Their stay on top , though , may be short-lived as title rivals Essex , Derbyshire and Surrey all closed in on victory while Kent made up for lost time in their rain-affected match against Nottinghamshire .\n",
      "Résultat de la pipeline BERT :\n",
      "[{'entity_group': 'ORG', 'score': np.float32(0.99959594), 'word': 'Essex', 'start': np.int32(64), 'end': np.int32(69)}, {'entity_group': 'ORG', 'score': np.float32(0.99947065), 'word': 'Derbyshire', 'start': np.int32(72), 'end': np.int32(82)}, {'entity_group': 'ORG', 'score': np.float32(0.9995284), 'word': 'Surrey', 'start': np.int32(87), 'end': np.int32(93)}, {'entity_group': 'ORG', 'score': np.float32(0.9994981), 'word': 'Kent', 'start': np.int32(125), 'end': np.int32(129)}, {'entity_group': 'ORG', 'score': np.float32(0.99940014), 'word': 'Nottinghamshire', 'start': np.int32(189), 'end': np.int32(204)}]\n"
     ]
    }
   ],
   "source": [
    "# Tester la pipeline sur les 3 premières phrases de test_tokens : afficher la phrase et le résultat de la pipeline.\n",
    "# Concaténer les tokens avec ' '.join(liste_de_tokens) avant de les donner à la pipeline. \n",
    "for i in range(3):\n",
    "    sentence = ' '.join(test_tokens[i])  # Rejoindre les tokens en une phrase\n",
    "    print(f\"\\nPhrase {i+1} : {sentence}\")\n",
    "    print(\"Résultat de la pipeline BERT :\")\n",
    "    print(distilbert_ner(sentence))"
   ]
  },
  {
   "cell_type": "markdown",
   "metadata": {},
   "source": [
    "**5b.** Le modèle DistilBERT utilise son propre tokeniseur, c'est pourquoi les étiquettes indiquant les entités nommées sont parfois portées par plusieurs *subwords* composant un mot.  Il faut donc parfois agréger une liste d'étiquettes en une seule.  \n",
    "\n",
    "Veuillez écrire une fonction qui prend en entrée une liste d'étiquettes et retourne une seule étiquette : soit la première, soit celle qui est majoritaire.  Cette fonction sera utilisée plus loin."
   ]
  },
  {
   "cell_type": "code",
   "execution_count": 29,
   "metadata": {},
   "outputs": [
    {
     "name": "stdout",
     "output_type": "stream",
     "text": [
      "B-PER\n",
      "B-LOC\n"
     ]
    }
   ],
   "source": [
    "from collections import Counter\n",
    "\n",
    "def tag_fusion(tag_list, method='first'): # ou method='majority'\n",
    "    \"\"\"\n",
    "    Fusionne une liste de tags en un seul tag.\n",
    "\n",
    "    Args:\n",
    "        tag_list (list of str): Les tags BERT d’un même mot éclaté en sous-tokens.\n",
    "        method (str): 'first' pour garder le premier tag, 'majority' pour celui qui revient le plus souvent.\n",
    "\n",
    "    Returns:\n",
    "        str: Tag fusionné.\n",
    "    \"\"\"\n",
    "    if not tag_list:\n",
    "        return \"O\"\n",
    "    if method == 'first':\n",
    "        return tag_list[0]\n",
    "    elif method == 'majority':\n",
    "        return Counter(tag_list).most_common(1)[0][0]\n",
    "    else:\n",
    "        raise ValueError(\"Méthode inconnue : choisir 'first' ou 'majority'.\")\n",
    "\n",
    "# Exemple de test :\n",
    "print(tag_fusion(['O', 'B-PER', 'B-PER'], method='majority'))  # Doit retourner 'B-PER'\n",
    "print(tag_fusion(['B-LOC', 'I-LOC'], method='first'))          # Doit retourner 'B-LOC'"
   ]
  },
  {
   "cell_type": "markdown",
   "metadata": {},
   "source": [
    "**5c.** Veuillez afficher le `set` des tags apparaissant dans les résultats de DistilBERT_NER sur les 50 premières phrases du corpus.  Comment se comparent-ils aux tags des données de test CoNLL ?"
   ]
  },
  {
   "cell_type": "code",
   "execution_count": 30,
   "metadata": {},
   "outputs": [
    {
     "name": "stdout",
     "output_type": "stream",
     "text": [
      "Tags trouvés par DistilBERT_NER :\n",
      "{'MISC', 'ORG', 'PER', 'LOC'}\n"
     ]
    }
   ],
   "source": [
    "bert_tags_set = set()\n",
    "\n",
    "for i in range(50):\n",
    "    sentence = ' '.join(test_tokens[i])\n",
    "    bert_results = distilbert_ner(sentence)\n",
    "    for ent in bert_results:\n",
    "        # Récupérer le bon champ, selon la version de Transformers\n",
    "        label = ent.get('entity_group', ent.get('entity'))\n",
    "        bert_tags_set.add(label)\n",
    "\n",
    "# Affichage\n",
    "print(\"Tags trouvés par DistilBERT_NER :\")\n",
    "print(bert_tags_set)"
   ]
  },
  {
   "cell_type": "markdown",
   "metadata": {},
   "source": [
    "*Réponse :*\n",
    "\n",
    "Les tags BERT sont souvent de la forme B-LOC, I-PER, B-ORG, etc. Ils ressemblent à ceux du jeu CoNLL, mais il peut y avoir des préfixes B- (Begin) et I- (Inside)."
   ]
  },
  {
   "cell_type": "markdown",
   "metadata": {},
   "source": [
    "**5d.**  Sur le modèle des points 3a et 4a, veuillez écrire une fonction qui convertit les tags générés par DistilBERT_NER aux tags des donnéees de test.  Vous utiliserez cette fonction plus loin.  "
   ]
  },
  {
   "cell_type": "code",
   "execution_count": 31,
   "metadata": {},
   "outputs": [],
   "source": [
    "def convert_bert_conll(bert_tag):\n",
    "    \"\"\"\n",
    "    Convertit un tag BERT (ex. 'B-PER', 'I-LOC', 'O') en tag CoNLL-2003 (ex. 'I-PER', 'I-LOC', 'O').\n",
    "    \"\"\"\n",
    "    # Cas où il n'y a pas d'entité\n",
    "    if bert_tag == \"O\":\n",
    "        return \"O\"\n",
    "    # Sinon on sépare le préfixe B-/I- et la partie type\n",
    "    try:\n",
    "        _, label = bert_tag.split(\"-\", 1)\n",
    "    except ValueError:\n",
    "        # En cas de format inattendu, on considère O\n",
    "        return \"O\"\n",
    "    # On ne garde que les 4 types CoNLL officiels\n",
    "    if label in [\"PER\", \"LOC\", \"ORG\", \"MISC\"]:\n",
    "        return f\"I-{label}\"\n",
    "    else:\n",
    "        return \"O\"\n"
   ]
  },
  {
   "cell_type": "markdown",
   "metadata": {},
   "source": [
    "**5e.** La pipeline DistilBERT_NER utilise son propre tokeniseur, qui ne peut pas être changé, car le modèle DistilBERT a été défini et entraîné avec lui.  On doit donc convertir les tokens du modèle à la même tokenisation que celle des données de test, en vue de l'évaluation.  Pour cela, on vous donne la fonction `convert_tokens` ainsi que du code pour la tester.  Veuillez étudier le code pour pouvoir l'utiliser plus bas, puis répondez aux questions ci-après."
   ]
  },
  {
   "cell_type": "code",
   "execution_count": 32,
   "metadata": {},
   "outputs": [
    {
     "name": "stderr",
     "output_type": "stream",
     "text": [
      "Device set to use 0\n"
     ]
    },
    {
     "name": "stdout",
     "output_type": "stream",
     "text": [
      "Tokens originaux : ['West', 'Indian', 'all-rounder', 'Phil', 'Simmons', 'took', 'four', 'for', '38', 'on', 'Friday', 'as', 'Leicestershire', 'beat', 'Somerset', 'by', 'an', 'innings', 'and', '39', 'runs', 'in', 'two', 'days', 'to', 'take', 'over', 'at', 'the', 'head', 'of', 'the', 'county', 'championship', '.']\n",
      "Word IDs         : [0, 1, 2, 2, 2, 2, 3, 4, 5, 6, 7, 8, 9, 10, 11, 12, 13, 14, 15, 16, 17, 18, 19, 20, 21, 22, 23, 24, 25, 26, 27, 28, 29, 30, 31, 32, 33, 34]\n",
      "Tags alignés     : ['I-MISC', 'I-MISC', 'O', 'I-PER', 'I-PER', 'O', 'O', 'O', 'O', 'O', 'O', 'O', 'I-ORG', 'O', 'I-ORG', 'O', 'O', 'O', 'O', 'O', 'O', 'O', 'O', 'O', 'O', 'O', 'O', 'O', 'O', 'O', 'O', 'O', 'O', 'O', 'O']\n"
     ]
    }
   ],
   "source": [
    "from transformers import pipeline\n",
    "\n",
    "# pipeline brute (sans agrégation) pour récupérer 'entity' & 'index'\n",
    "distilbert_ner_token = pipeline(\n",
    "    \"ner\",\n",
    "    model=model,\n",
    "    tokenizer=tokenizer,\n",
    "    aggregation_strategy=None\n",
    ")\n",
    "\n",
    "def convert_tokens(ref_tokens, bert_result, word_ids):\n",
    "    tokenized = tokenizer.tokenize(' '.join(ref_tokens))\n",
    "    all_tags = []\n",
    "    for tok, i in zip(tokenized, range(len(tokenized))):\n",
    "        label = [tag['entity_group'] for tag in bert_result if tag['index'] == i+1]\n",
    "        if label:\n",
    "            label = label[0]\n",
    "        else:\n",
    "            label = 'O'\n",
    "        if tok[:2] == '##' or word_ids[i] == word_ids[i-1]: \n",
    "            all_tags[-1].append(label)\n",
    "        else:\n",
    "            all_tags.append([label])\n",
    "    return [tag_fusion(taglist, method='first') for taglist in all_tags]\n",
    "\n",
    "def convert_tokens(ref_tokens, bert_result, word_ids, method='first'):\n",
    "    labels_per_word = [[] for _ in ref_tokens]\n",
    "\n",
    "    for ent in bert_result:\n",
    "        sub_idx = ent['index'] - 1                # l’index BERT commence à 1\n",
    "        if sub_idx < 0 or sub_idx >= len(word_ids):\n",
    "            continue\n",
    "        word_idx = word_ids[sub_idx]              # à quel token d’origine ce sous-token appartient\n",
    "        if word_idx is None or word_idx >= len(ref_tokens):\n",
    "            continue\n",
    "        labels_per_word[word_idx].append(ent['entity'])\n",
    "\n",
    "    conll_tags = []\n",
    "    for lab_list in labels_per_word:\n",
    "        if not lab_list:\n",
    "            conll_tags.append(\"O\")\n",
    "        else:\n",
    "            fused = tag_fusion(lab_list, method=method)      # 'first' ou 'majority'\n",
    "            conll_tags.append(convert_bert_conll(fused))     # map B-/I-XX → I-XX ou O\n",
    "\n",
    "    return conll_tags\n",
    "\n",
    "\n",
    "# tests\n",
    "i = 1\n",
    "tok_out = tokenizer(\n",
    "    test_tokens[i],\n",
    "    add_special_tokens=False,\n",
    "    is_split_into_words=True\n",
    ")\n",
    "bert_raw = distilbert_ner_token(' '.join(test_tokens[i]))  # pipeline non-agrégée\n",
    "\n",
    "print(\"Tokens originaux :\", test_tokens[i])\n",
    "print(\"Word IDs         :\", tok_out.word_ids())\n",
    "print(\"Tags alignés     :\", convert_tokens(test_tokens[i], bert_raw, tok_out.word_ids()))"
   ]
  },
  {
   "cell_type": "code",
   "execution_count": 33,
   "metadata": {},
   "outputs": [
    {
     "name": "stdout",
     "output_type": "stream",
     "text": [
      "35 -- ['West', 'Indian', 'all-rounder', 'Phil', 'Simmons', 'took', 'four', 'for', '38', 'on', 'Friday', 'as', 'Leicestershire', 'beat', 'Somerset', 'by', 'an', 'innings', 'and', '39', 'runs', 'in', 'two', 'days', 'to', 'take', 'over', 'at', 'the', 'head', 'of', 'the', 'county', 'championship', '.']\n",
      "38 -- ['West', 'Indian', 'all', '-', 'round', '##er', 'Phil', 'Simmons', 'took', 'four', 'for', '38', 'on', 'Friday', 'as', 'Leicestershire', 'beat', 'Somerset', 'by', 'an', 'innings', 'and', '39', 'runs', 'in', 'two', 'days', 'to', 'take', 'over', 'at', 'the', 'head', 'of', 'the', 'county', 'championship', '.']\n",
      "38 -- [0, 1, 2, 2, 2, 2, 3, 4, 5, 6, 7, 8, 9, 10, 11, 12, 13, 14, 15, 16, 17, 18, 19, 20, 21, 22, 23, 24, 25, 26, 27, 28, 29, 30, 31, 32, 33, 34]\n",
      "6 -- [{'entity': 'B-MISC', 'score': np.float32(0.9992393), 'index': 1, 'word': 'West', 'start': np.int32(0), 'end': np.int32(4)}, {'entity': 'I-MISC', 'score': np.float32(0.9930413), 'index': 2, 'word': 'Indian', 'start': np.int32(5), 'end': np.int32(11)}, {'entity': 'B-PER', 'score': np.float32(0.9996927), 'index': 7, 'word': 'Phil', 'start': np.int32(24), 'end': np.int32(28)}, {'entity': 'I-PER', 'score': np.float32(0.9997774), 'index': 8, 'word': 'Simmons', 'start': np.int32(29), 'end': np.int32(36)}, {'entity': 'B-ORG', 'score': np.float32(0.9995023), 'index': 16, 'word': 'Leicestershire', 'start': np.int32(67), 'end': np.int32(81)}, {'entity': 'B-ORG', 'score': np.float32(0.9995048), 'index': 18, 'word': 'Somerset', 'start': np.int32(87), 'end': np.int32(95)}]\n",
      "35 -- ['I-MISC', 'I-MISC', 'O', 'I-PER', 'I-PER', 'O', 'O', 'O', 'O', 'O', 'O', 'O', 'I-ORG', 'O', 'I-ORG', 'O', 'O', 'O', 'O', 'O', 'O', 'O', 'O', 'O', 'O', 'O', 'O', 'O', 'O', 'O', 'O', 'O', 'O', 'O', 'O']\n"
     ]
    }
   ],
   "source": [
    "# Test de la fonction convert_tokens:\n",
    "i = 1 # choix de la phrase\n",
    "def print_len(l):\n",
    "    print(len(l), '--', l)\n",
    "print_len(test_tokens[i]) # Affichage 1\n",
    "tokenized_by_bert = tokenizer(test_tokens[i], add_special_tokens=False, is_split_into_words=True)\n",
    "print_len(tokenizer.convert_ids_to_tokens(tokenized_by_bert[\"input_ids\"]))  # Affichage 2\n",
    "print_len(tokenized_by_bert.word_ids())  # Affichage 3\n",
    "tagged_by_bert = distilbert_ner_token(' '.join(\n",
    "    test_tokens[i]))\n",
    "print_len(tagged_by_bert)  # Affichage 4\n",
    "print_len(convert_tokens(test_tokens[i], tagged_by_bert, tokenized_by_bert.word_ids()))  # Affichage 5"
   ]
  },
  {
   "cell_type": "code",
   "execution_count": 34,
   "metadata": {},
   "outputs": [],
   "source": [
    "# Questions\n",
    "# 1. Que représentent les trois paramètres de convert_tokens ? Définissez-les comme dans une docstring.\n",
    "# 2. Que représentent les cinq lignes affichées par le code de test ?\n",
    "# 3. Quels sont les deux problèmes traités par la fonction convert_tokens ?"
   ]
  },
  {
   "cell_type": "markdown",
   "metadata": {},
   "source": [
    "*Réponse :*\n",
    "\n",
    "1. \n",
    "   - `ref_tokens` : liste des tokens d'origine issus de test_tokens.\n",
    "   - `bert_result` : résultats du modèle DistilBERT_NER (listes de dicts avec entity, start, end, etc.).\n",
    "   - `word_ids` : correspondance entre chaque sous-token BERT et son token original.\n",
    "2. \n",
    "   1. tokens d’origine\n",
    "   2. tokens sous-tokenisés par BERT\n",
    "   3. indices word_ids\n",
    "   4. entités brutes extraites par BERT\n",
    "   5. entités alignées sur la tokenisation originale\n",
    "3. \n",
    "   - Alignement entre les sous-tokens et tokens originaux.\n",
    "   - Fusion correcte de plusieurs sous-tags associés à un même mot."
   ]
  },
  {
   "cell_type": "markdown",
   "metadata": {},
   "source": [
    "**5f.** Veuillez effectuer la reconnaissance des entités nommées avec la pipeline DistilBERT_NER et obtenir la liste finale de tags avec les noms convertis à ceux du jeu de référence grâce à `convert_bert_conll`."
   ]
  },
  {
   "cell_type": "code",
   "execution_count": 35,
   "metadata": {},
   "outputs": [
    {
     "name": "stdout",
     "output_type": "stream",
     "text": [
      "Nombre total de tags : 50817\n",
      "10 premiers tags   : ['O', 'O', 'O', 'O', 'O', 'O', 'O', 'O', 'O', 'O']\n",
      "50817\n"
     ]
    }
   ],
   "source": [
    "j = len(test_tokens) # se limiter aux j premières phrases sur les 2970 (utile pendant le développement, mais les utiliser toutes à la fin)\n",
    "bert_tags_conv = []\n",
    "\n",
    "bert_tags = []\n",
    "for i in range(j):\n",
    "    bert_raw = distilbert_ner_token(' '.join(test_tokens[i]))\n",
    "\n",
    "    tok_out = tokenizer(\n",
    "        test_tokens[i],\n",
    "        add_special_tokens=False,\n",
    "        is_split_into_words=True\n",
    "    )\n",
    "    word_ids = tok_out.word_ids()\n",
    "    aligned = convert_tokens(\n",
    "        test_tokens[i],\n",
    "        bert_raw,\n",
    "        word_ids,\n",
    "        method='first'   # ou 'majority' si tu préfères\n",
    "    )\n",
    "    bert_tags.extend(aligned)\n",
    "\n",
    "bert_tags_conv = bert_tags\n",
    "\n",
    "print(\"Nombre total de tags :\", len(bert_tags_conv))\n",
    "print(\"10 premiers tags   :\", bert_tags_conv[:10])\n",
    "\n",
    "print(len(bert_tags_conv))"
   ]
  },
  {
   "cell_type": "markdown",
   "metadata": {},
   "source": [
    "**5g.** En comparant `test_tags` avec `bert_tags_conv`, veuillez afficher le rapport d'évaluation de la classification et la matrice de confusion, pour tous les types de tags apparaissant dans les données de test."
   ]
  },
  {
   "cell_type": "code",
   "execution_count": 36,
   "metadata": {},
   "outputs": [
    {
     "name": "stdout",
     "output_type": "stream",
     "text": [
      "              precision    recall  f1-score   support\n",
      "\n",
      "       I-LOC       0.97      0.96      0.97      1938\n",
      "      I-MISC       0.92      0.93      0.92      1228\n",
      "       I-ORG       0.95      0.95      0.95      2080\n",
      "       I-PER       0.92      0.98      0.95      3097\n",
      "           O       1.00      0.99      1.00     42474\n",
      "\n",
      "    accuracy                           0.99     50817\n",
      "   macro avg       0.95      0.96      0.96     50817\n",
      "weighted avg       0.99      0.99      0.99     50817\n",
      "\n"
     ]
    }
   ],
   "source": [
    "labels = sorted(set(test_tags))\n",
    "\n",
    "print(classification_report(\n",
    "    test_tags,\n",
    "    bert_tags_conv,\n",
    "    labels=labels,\n",
    "    zero_division=0\n",
    "))"
   ]
  },
  {
   "cell_type": "markdown",
   "metadata": {},
   "source": [
    "**5h.** Laquelle des deux stratégies de `tag_fusion` (premier tag ou tag majoritaire) conduit à de meilleurs résultats ?  Veuillez effectuer l'expérience et indiquer simplement les scores obtenus et votre conclusion dans le champ suivant.  Pour la conclusion finale, gardez 'first'."
   ]
  },
  {
   "cell_type": "code",
   "execution_count": 37,
   "metadata": {},
   "outputs": [
    {
     "name": "stdout",
     "output_type": "stream",
     "text": [
      "F1 macro (first)   : 0.9578\n",
      "F1 macro (majority): 0.9577\n",
      "\n",
      "Meilleure stratégie : first\n"
     ]
    }
   ],
   "source": [
    "from sklearn.metrics import f1_score\n",
    "\n",
    "bert_tags_first = []\n",
    "bert_tags_maj = []\n",
    "\n",
    "for i in range(len(test_tokens)):\n",
    "    sent = ' '.join(test_tokens[i])\n",
    "    bert_raw = distilbert_ner_token(sent)\n",
    "    tok_out = tokenizer(\n",
    "        test_tokens[i],\n",
    "        add_special_tokens=False,\n",
    "        is_split_into_words=True\n",
    "    )\n",
    "    word_ids = tok_out.word_ids()\n",
    "    bert_tags_first.extend(convert_tokens(test_tokens[i], bert_raw, word_ids, method='first'))\n",
    "    bert_tags_maj.extend(convert_tokens(test_tokens[i], bert_raw, word_ids, method='majority'))\n",
    "\n",
    "# macro f1\n",
    "f1_first = f1_score(test_tags, bert_tags_first, average='macro', zero_division=0)\n",
    "f1_maj   = f1_score(test_tags, bert_tags_maj,   average='macro', zero_division=0)\n",
    "\n",
    "print(f\"F1 macro (first)   : {f1_first:.4f}\")\n",
    "print(f\"F1 macro (majority): {f1_maj:.4f}\")\n",
    "\n",
    "print(\"\\nMeilleure stratégie :\", \"first\" if f1_first >= f1_maj else \"majority\")"
   ]
  },
  {
   "cell_type": "markdown",
   "metadata": {},
   "source": [
    "*Réponse :*\n",
    "\n",
    "Le score F1 macro obtenu avec la stratégie first est *très très légèrement* meilleur que celui obtenu avec majority. En fait, la différence est quasiment négligeable."
   ]
  },
  {
   "cell_type": "markdown",
   "metadata": {},
   "source": [
    "## 6. Discussion finale\n",
    "\n",
    "Veuillez comparer les scores des quatre modèles testés, en termes de **macro avg**.  Pourquoi ce score est-il le plus informatif ?  Veuillez indiquer également la taille des modèles spaCy évalués."
   ]
  },
  {
   "cell_type": "code",
   "execution_count": 38,
   "metadata": {},
   "outputs": [
    {
     "name": "stdout",
     "output_type": "stream",
     "text": [
      "            F1_macro\n",
      "DistilBERT  0.957850\n",
      "spaCy‑lg    0.793691\n",
      "spaCy‑sm    0.743234\n",
      "NLTK        0.555275\n"
     ]
    }
   ],
   "source": [
    "from sklearn.metrics import f1_score\n",
    "import pandas as pd\n",
    "\n",
    "# Dictionnaire des prédictions déjà calculées\n",
    "preds = {\n",
    "    \"NLTK\":       nltk_tags_conv,        # à remplacer par la variable de la partie 3\n",
    "    \"spaCy‑sm\":   spacy_tags_conv,       # issue de 4c\n",
    "    \"spaCy‑lg\":   spacy_tags_conv_lg,    # issue de 4e\n",
    "    \"DistilBERT\": bert_tags_conv         # issue de 5f\n",
    "}\n",
    "\n",
    "# Calcul des F1 macro pour chaque modèle\n",
    "scores = {\n",
    "    model: f1_score(test_tags, y_pred, average=\"macro\", zero_division=0)\n",
    "    for model, y_pred in preds.items()\n",
    "}\n",
    "\n",
    "# Mise en DataFrame pour un affichage clair\n",
    "df_scores = (\n",
    "    pd.DataFrame.from_dict(scores, orient=\"index\", columns=[\"F1_macro\"])\n",
    "      .sort_values(\"F1_macro\", ascending=False)\n",
    ")\n",
    "\n",
    "print(df_scores)"
   ]
  },
  {
   "cell_type": "markdown",
   "metadata": {},
   "source": [
    "*Réponse :*\n",
    "\n",
    "La moyenne macro est plus intéressante lorsque les classes sont très déséquilibrées comme c'est le cas ici. Si on utilisait pas la moyenne macro, le grand déséquilibre pourrait donner l'impression que le modèle est bon pour toutes les classes alors que ce n'est pas le cas."
   ]
  },
  {
   "cell_type": "markdown",
   "metadata": {},
   "source": [
    "**Fin du Labo.** Veuillez nettoyer ce notebook en gardant seulement les résultats désirés, l'enregistrer, et le soumettre comme devoir sur Cyberlearn."
   ]
  }
 ],
 "metadata": {
  "kernelspec": {
   "display_name": "data-science",
   "language": "python",
   "name": "python3"
  },
  "language_info": {
   "codemirror_mode": {
    "name": "ipython",
    "version": 3
   },
   "file_extension": ".py",
   "mimetype": "text/x-python",
   "name": "python",
   "nbconvert_exporter": "python",
   "pygments_lexer": "ipython3",
   "version": "3.12.7"
  }
 },
 "nbformat": 4,
 "nbformat_minor": 4
}
