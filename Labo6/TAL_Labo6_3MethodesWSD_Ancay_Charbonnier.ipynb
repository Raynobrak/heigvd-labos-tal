{
 "cells": [
  {
   "cell_type": "markdown",
   "metadata": {},
   "source": [
    "<img src=\"https://heig-vd.ch/docs/default-source/doc-global-newsletter/2020-slim.svg\" alt=\"HEIG-VD Logo\" width=\"100\"/>\n",
    "\n",
    "# Cours TAL - Laboratoire 6\n",
    "# Trois méthodes de désambiguïsation lexicale\n",
    "\n",
    "**Objectif**\n",
    "\n",
    "L'objectif de ce laboratoire est d'implémenter et de comparer plusieurs méthodes de désambiguïsation lexicale (en anglais, *Word Sense Disambiguation* ou WSD).  Vous utiliserez un corpus avec plusieurs milliers de phrases, chaque phrase contenant une occurrence du mot anglais *interest* annotée avec le sens que ce mot possède dans la phrase respective.  Les trois méthodes sont les suivantes (elles seront détaillées par la suite) :\n",
    "\n",
    "* Algorithme de Lesk simplifié.\n",
    "* Utilisation de word2vec.\n",
    "* Classification supervisée utilisant des traits lexicaux.\n",
    "\n",
    "Les deux premières méthodes n'utilisent pas l'apprentissage automatique.  Elles fonctionnent selon le même principe : comparer le contexte d'une occurrence de *interest* avec chacune des définitions des sens (*synsets*) et choisir la définition la plus proche du contexte.  L'algorithme de Lesk définit la proximité comme le nombre de mots en commun, alors que word2vec la calcule comme la similarité de vecteurs.  La dernière méthode vise à classifier les occurrences de *interest*, les sens étant les classes, et les attributs étant les mots du contexte (apprentissage supervisé)."
   ]
  },
  {
   "cell_type": "markdown",
   "metadata": {},
   "source": [
    "## 1. Analyse des données\n",
    "\n",
    "Téléchargez le corpus *interest* depuis le [site du Prof. Ted Pedersen](http://www.d.umn.edu/~tpederse/data.html) (il se trouve en bas de sa page web).  Téléchargez l'archive ZIP marquée *original format without POS tags* et extrayez le fichier `interest-original.txt`.  Téléchargez également le fichier `README.int.txt` indiqué à la ligne au-dessus. Veuillez répondre brièvement aux questions suivantes :\n",
    "\n",
    "a. Quelles sont les URL du fichier ZIP et celle du fichier `README.int.txt` ?\n",
    "\n",
    "b. Quel est le format du fichier `interest-original.txt` et comment sont annotés les sens de *interest* ?\n",
    "\n",
    "c. Est-ce qu'il y a aussi des occurrences au pluriel (*interests*) à traite ?\n",
    "\n",
    "d. Comment sont annotées les phrases qui contiennent plusieurs occurrences du mot *interest* ?"
   ]
  },
  {
   "cell_type": "code",
   "execution_count": 17,
   "metadata": {},
   "outputs": [],
   "source": [
    "# Veuillez répondre ici (en commentaire) aux questions.\n",
    "\n",
    "# a. Les URL sont les suivantes :\n",
    "# https://www.d.umn.edu/~tpederse/Data/interest-original.nopos.tar.gz\n",
    "# https://www.d.umn.edu/~tpederse/Data/README.int.txt\n",
    "\n",
    "# b. Le format du fichier `interest-original.txt` est le suivant : chaque phrase est délimitée par des $$.\n",
    "# Aussi, chaque occurrence du mot *interest* est écrite avec le numéro de son sens. Par exemple, interest_6.\n",
    "\n",
    "# c. Oui, il y a aussi des occurrences au pluriel. Elles sont annotées de la même manière que les occurrences au singulier,\n",
    "# mais avec un \"s\" à la fin. Par exemple, interests_4.\n",
    "\n",
    "# d. Les phrases contienant plusieurs occurrences du mot *interest* ne sont annotées qu'une seule fois.\n",
    "\n",
    "# Par exemple, avec la phrase \"it  is n't *interested in mounting  ...  the growing interest_1  in  the british concern\"\n",
    "# on voit que le premier mot \"interested\" commence par un * qui indique qu'il ne s'agit pas de l'occurence du mot *interest*\n",
    "# qui nous intéresse. Il faut donc ignorer ce mot. De plus, le mot \"interest_1\" est annoté avec le numéro de son sens, ici 1.\n",
    "\n",
    "# La phrase est ensuite dupliquée en échangant l'intérêt pour les deux mots *interest*.\n",
    "# Celui qui était ignoré devient celui qui est annoté et l'autre est ignoré avec un *."
   ]
  },
  {
   "cell_type": "markdown",
   "metadata": {},
   "source": [
    "**1e.** D'après le fichier `README.int.txt`, quelles sont les définitions des six sens de *interest* annotés dans les données et quelles sont leurs fréquences ? Vous pouvez copier/coller l'extrait de `README`ici."
   ]
  },
  {
   "cell_type": "code",
   "execution_count": 18,
   "metadata": {},
   "outputs": [],
   "source": [
    "# Veuillez répondre ici (en commentaire) à la question.\n",
    "\n",
    "# Sense 1 =  361 occurrences (15%) - readiness to give attention (En français : disposition à prêter attention)\n",
    "# Sense 2 =   11 occurrences (01%) - quality of causing attention to be given to (En français : qualité de provoquer l'attention)\n",
    "# Sense 3 =   66 occurrences (03%) - activity, etc. that one gives attention to (En français : activité, etc. à laquelle on prête attention)\n",
    "# Sense 4 =  178 occurrences (08%) - advantage, advancement or favor (En français : avantage, avancement ou faveur)\n",
    "# Sense 5 =  500 occurrences (21%) - a share in a company or business (En français : une part dans une société ou une entreprise)\n",
    "# Sense 6 = 1252 occurrences (53%) - money paid for the use of money (En français : argent payé pour l'utilisation de l'argent)\n"
   ]
  },
  {
   "cell_type": "markdown",
   "metadata": {},
   "source": [
    "**1f.** De quel dictionnaire viennent les sens précédents ? Où peut-on le consulter en ligne ?  Veuillez aligner les définitions du dictionnaire avec les six sens annotés en écrivant par exemple `Sense 3 = \"an activity that you enjoy doing or a subject that you enjoy studying\"`."
   ]
  },
  {
   "cell_type": "code",
   "execution_count": 19,
   "metadata": {},
   "outputs": [],
   "source": [
    "# Veuillez répondre ici (en commentaire) à la question.\n",
    "\n",
    "# Les senses viennent de la version électronique de la première édition du Longman's Dictionary of Contemporary English.\n",
    "\n",
    "# Nous pouvons le consulter en ligne à l'adresse suivante : https://www.ldoceonline.com/\n",
    "\n",
    "# Sens 1 = \"if you have an interest in something or someone, you want to know or learn more about them\"\n",
    "# Sens 2 = \"a quality or feature of something that attracts your attention or makes you want to know more about it\"\n",
    "# Sense 3 = \"an activity that you enjoy doing or a subject that you enjoy studying\"\n",
    "# Sens 4 = \"the things that bring advantages to someone or something\"\n",
    "# Sens 5 = \"if you have an interest in a particular company or industry, you own shares in it\"\n",
    "# Sens 6 = \"the extra money that you must pay back when you borrow money\"\n"
   ]
  },
  {
   "cell_type": "markdown",
   "metadata": {},
   "source": [
    "**1g.** En consultant [WordNet en ligne](http://wordnetweb.princeton.edu/perl/webwn), trouvez les définitions des synsets  pour le **nom commun** *interest*.  Combien de synsets y a-t-il ?  Veuillez indiquer comme avant la **définition** de chaque synset pour chacun des six sens ci-dessus (au besoin, fusionner ou ignorer des synsets)."
   ]
  },
  {
   "cell_type": "code",
   "execution_count": 20,
   "metadata": {},
   "outputs": [],
   "source": [
    "# Veuillez répondre ici (en commentaire) à la question.\n",
    "\n",
    "# Sens 1 = \"a sense of concern with and curiosity about someone or something\"\n",
    "# Sens 2 = \"the power of attracting or holding one's attention \"\n",
    "# Sens 3 = \"a social group whose members control some field of activity and who have common aims\"\n",
    "# Sens 4 = \"a reason for wanting something done in the common interest\"\n",
    "# Sens 5 = \"a right or legal share of something; a financial involvement with something\"\n",
    "# Sens 6 = \"a fixed charge for borrowing money; usually a percentage of the amount borrowed\""
   ]
  },
  {
   "cell_type": "markdown",
   "metadata": {},
   "source": [
    "**1h.** Définissez (manuellement, ou avec quelques lignes de code) une liste nommée `senses1` avec les mots des définitions du README, en supprimant les stopwords (p.ex. les mots < 4 lettres).  Affichez la liste."
   ]
  },
  {
   "cell_type": "code",
   "execution_count": 21,
   "metadata": {},
   "outputs": [],
   "source": [
    "import nltk"
   ]
  },
  {
   "cell_type": "code",
   "execution_count": 22,
   "metadata": {},
   "outputs": [],
   "source": [
    "from random import randrange"
   ]
  },
  {
   "cell_type": "code",
   "execution_count": 23,
   "metadata": {},
   "outputs": [
    {
     "name": "stdout",
     "output_type": "stream",
     "text": [
      "[{'attention', 'give', 'readiness'}, {'quality', 'given', 'causing', 'attention'}, {'activity', 'that', 'attention', 'gives'}, {'favor', 'advancement', 'advantage'}, {'business', 'company', 'share'}, {'paid', 'money'}]\n",
      "6\n",
      "19\n"
     ]
    }
   ],
   "source": [
    "# Veuillez répondre ici à la question et créer la variable 'senses1' (liste de 6 listes de chaînes).\n",
    "senses1 = []\n",
    "\n",
    "readme_string = \"readiness to give attention\\nquality of causing attention to be given to\\nactivity etc that one gives attention to\\nadvantage advancement or favor\\na share in a company or business\\nmoney paid for the use of money\"\n",
    "\n",
    "\n",
    "for sentence in readme_string.split(\"\\n\"):\n",
    "    tokens = sentence.split(\" \")\n",
    "    senses = set([word for word in tokens if len(word) > 3])\n",
    "    senses1.append(senses)\n",
    "\n",
    "print(senses1)\n",
    "print(len(senses1))\n",
    "print(sum([len(sense) for sense in senses1]))"
   ]
  },
  {
   "cell_type": "markdown",
   "metadata": {},
   "source": [
    "**1i.** En combinant les définitions obtenues aux points (4) et (5) ci-dessus, construisez une liste nommée `senses2` avec pour chacun des sens de *interest* une liste de **mots-clés** correspondants.  Vous pouvez concaténer les définitions, puis écrire des instructions en Python pour extraire les mots (uniques).  Respectez l'ordre des sens données par `README`, et à la fin affichez `senses2`."
   ]
  },
  {
   "cell_type": "code",
   "execution_count": 24,
   "metadata": {},
   "outputs": [
    {
     "name": "stdout",
     "output_type": "stream",
     "text": [
      "[{'learn', 'curiosity', 'sense', 'have', 'something', 'about', 'someone', 'more', 'know', 'them', 'with', 'want', 'someone,', 'interest', 'concern'}, {'feature', 'holding', 'that', \"one's\", 'something', 'about', 'more', 'attracts', 'know', 'attention', 'power', 'attracting', 'quality', 'makes', 'want', 'your'}, {'whose', 'that', 'aims', 'doing', 'control', 'some', 'social', 'field', 'have', 'activity', 'group', 'subject', 'studying', 'members', 'enjoy', 'common'}, {'reason', 'that', 'wanting', 'something', 'someone', 'things', 'done', 'common', 'advantages', 'interest', 'bring'}, {'financial', 'have', 'company', 'something;', 'something', 'industry,', 'legal', 'with', 'particular', 'involvement', 'interest', 'shares', 'share', 'right'}, {'that', 'charge', 'usually', 'amount', 'extra', 'back', 'borrow', 'borrowed', 'money', 'when', 'percentage', 'borrowing', 'fixed', 'must', 'money;'}]\n",
      "6\n",
      "87\n"
     ]
    }
   ],
   "source": [
    "# Veuillez répondre ici à la question et créer la variable 'senses2' (liste de 6 listes de chaînes).\n",
    "senses2 = []\n",
    "\n",
    "string_f = \"if you have an interest in something or someone, you want to know or learn more about them\\na quality or feature of something that attracts your attention or makes you want to know more about it\\nan activity that you enjoy doing or a subject that you enjoy studying\\nthe things that bring advantages to someone or something\\nif you have an interest in a particular company or industry, you own shares in it\\nthe extra money that you must pay back when you borrow money\"\n",
    "\n",
    "string_g = \"a sense of concern with and curiosity about someone or something\\nthe power of attracting or holding one's attention\\na social group whose members control some field of activity and who have common aims\\na reason for wanting something done in the common interest\\na right or legal share of something; a financial involvement with something\\na fixed charge for borrowing money; usually a percentage of the amount borrowed\"\n",
    "\n",
    "string_f_split = string_f.split(\"\\n\")\n",
    "string_g_split = string_g.split(\"\\n\")\n",
    "\n",
    "for i in range(len(string_f_split)):\n",
    "    tokens_f = string_f_split[i].split(\" \")\n",
    "    tokens_g = string_g_split[i].split(\" \")\n",
    "    tokens = tokens_f + tokens_g\n",
    "    senses = set([word for word in tokens if len(word) > 3])\n",
    "    senses2.append(senses)\n",
    "\n",
    "print(senses2)\n",
    "print(len(senses2))\n",
    "print(sum([len(sense) for sense in senses2]))"
   ]
  },
  {
   "cell_type": "markdown",
   "metadata": {},
   "source": [
    "**1j.** Chargez les données depuis `interest-original.txt` dans une liste appelée `sentences` qui contient pour chaque phrase la liste des mots (sans les séparateurs *$$* et *===...*).  Ces phrases sont-elles déjà tokenisées en mots ?  Sinon, faites-le.  À ce stade, ne modifiez pas encore les occurrences annotées *interest(s)\\_X*.  Comptez le nombre total de phrases et affichez-en trois au hasard."
   ]
  },
  {
   "cell_type": "code",
   "execution_count": 25,
   "metadata": {},
   "outputs": [
    {
     "name": "stdout",
     "output_type": "stream",
     "text": [
      "Il y a 2368 phrases.\n",
      "En voici 3 au hasard :\n",
      "[['investor', 'interest_1', 'in', 'stock', 'funds', '``', 'has', \"n't\", 'stalled', 'at', 'all', ',', \"''\", 'mr.', 'hines', 'maintains', '.'], [\"''\", 'it', 'is', 'in', 'the', 'western', 'interest_4', 'to', 'see', 'mr.', 'gorbachev', 'succeed', '.'], ['revco', 'insists', 'that', 'the', 'proposal', 'is', 'simply', 'an', '``', 'expression', 'of', 'interest_1', ',', \"''\", 'because', 'under', 'chapter', '11', 'revco', 'has', '``', 'exclusivity', 'rights', \"''\", 'until', 'feb.', '28', '.']]\n"
     ]
    }
   ],
   "source": [
    "import re\n",
    "\n",
    "# Veuillez répondre ici à la question.\n",
    "sentences = []\n",
    "\n",
    "with open(\"data/interest-original.txt\", \"r\", encoding=\"utf-8\") as f:\n",
    "    text = f.read()\n",
    "\n",
    "# supprimer tous les '='\n",
    "text = text.replace('=','')\n",
    "\n",
    "# Séparer les phrases sur \"$$\"\n",
    "raw_sentences = text.split(\"$$\")\n",
    "\n",
    "sentences = []\n",
    "for raw in raw_sentences:\n",
    "    # Nettoyer les sauts de ligne et espaces inutiles\n",
    "    cleaned = raw.strip()\n",
    "    if not cleaned:\n",
    "        continue\n",
    "\n",
    "    # Re-nettoyer les espaces et tokeniser\n",
    "    tokens = cleaned.strip().split()\n",
    "    if tokens:\n",
    "        sentences.append(tokens)\n",
    "\n",
    "\n",
    "print(\"Il y a {} phrases.\\nEn voici 3 au hasard :\".format(len(sentences)))\n",
    "print(sentences[151:154])"
   ]
  },
  {
   "cell_type": "markdown",
   "metadata": {},
   "source": [
    "## 2. Algorithme de Lesk simplifié\n",
    "\n",
    "**2a.** Définissez une fonction `wsd_lesk(senses, sentence)` qui prend deux arguments : une liste de listes de mots-clés (comme `senses1` et `senses2` ci-dessus) et une phrase avec une occurrence annotée de *interest* ou *interests*, et qui retourne l'index du sens le plus probable (entre 1 et 6) selon l'algorithme de Lesk.  Cet algorithme choisit le sens qui a le maximum de mots en commun avec le contexte de *interest*.  Vous pouvez choisir vous-mêmes la taille de ce voisinage (`window_size`).  En cas d'égalité entre deux sens, tirer la réponse au sort."
   ]
  },
  {
   "cell_type": "code",
   "execution_count": 26,
   "metadata": {},
   "outputs": [],
   "source": [
    "import random\n",
    "\n",
    "def get_unique_words(sentence):\n",
    "    return set([word for word in sentence if len(word) > 3])\n",
    "\n",
    "def get_neighbors_of_word(sentence, window_size):\n",
    "    word_idx = find_index_of_interest(sentence)\n",
    "\n",
    "    begin = round(max(0, word_idx - window_size / 2))\n",
    "    end = round(min(len(sentence), word_idx + window_size / 2))\n",
    "    words = [sentence[i] for i in range(begin, end)]\n",
    "\n",
    "    return get_unique_words(words)\n",
    "\n",
    "def find_index_of_interest(sentence):\n",
    "    for i in range(len(sentence)):\n",
    "        if sentence[i].startswith('interest'):\n",
    "            if '_' in sentence[i]:\n",
    "                return i\n",
    "\n",
    "def wsd_lesk(senses, sentence, window_size=8):\n",
    "    best_indices = []\n",
    "    best_score = 0\n",
    "\n",
    "    context = get_neighbors_of_word(sentence, window_size)\n",
    "    for i, sense in enumerate(senses):\n",
    "        score = len(sense.intersection(context))\n",
    "        if score > best_score:\n",
    "            best_score = score\n",
    "            best_indices = [i]\n",
    "        if score == best_score:\n",
    "            best_indices.append(i)\n",
    "\n",
    "    return random.choice(best_indices) + 1"
   ]
  },
  {
   "cell_type": "code",
   "execution_count": 27,
   "metadata": {},
   "outputs": [
    {
     "name": "stdout",
     "output_type": "stream",
     "text": [
      "['j.p.', 'bolduc', ',', 'vice', 'chairman', 'of', 'w.r.', 'grace', '&', 'co.', ',', 'which', 'holds', 'a', '83.4', '%', 'interest_5', 'in', 'this', 'energy-services', 'company', ',', 'was', 'elected', 'a', 'director', '.']\n"
     ]
    },
    {
     "data": {
      "text/plain": [
       "1"
      ]
     },
     "execution_count": 27,
     "metadata": {},
     "output_type": "execute_result"
    }
   ],
   "source": [
    "idx = 3\n",
    "print(sentences[idx])\n",
    "wsd_lesk(senses2, sentences[idx])"
   ]
  },
  {
   "cell_type": "code",
   "execution_count": 28,
   "metadata": {},
   "outputs": [
    {
     "name": "stdout",
     "output_type": "stream",
     "text": [
      "True\n"
     ]
    }
   ],
   "source": [
    "word = 'interest_6'\n",
    "print(word.startswith('interest'))"
   ]
  },
  {
   "cell_type": "markdown",
   "metadata": {},
   "source": [
    "**2b.** Définissez maintenant une fonction `evaluate_wsd(fct_name, senses, sentences)` qui prend en paramètre le nom de la méthode de similarité (pour commencer : `wsd_lesk`) ainsi que la liste des mots-clés par sens, et la liste de phrases, et qui retourne le score de la méthode de similarité.  Ce score sera tout simplement le pourcentage de réponses correctes (sens trouvé identique au sens annoté)."
   ]
  },
  {
   "cell_type": "code",
   "execution_count": 29,
   "metadata": {},
   "outputs": [],
   "source": [
    "def evaluate_wsd(fct_name, senses, sentences, window_size=8):\n",
    "    correct = 0\n",
    "\n",
    "    for s in sentences:\n",
    "        expected = int(s[find_index_of_interest(s)].split('_')[1])\n",
    "        pred = fct_name(senses, s, window_size)\n",
    "        if expected == pred:\n",
    "            correct += 1\n",
    "    \n",
    "    return correct / len(sentences)"
   ]
  },
  {
   "cell_type": "code",
   "execution_count": 30,
   "metadata": {},
   "outputs": [
    {
     "data": {
      "text/plain": [
       "0.19383445945945946"
      ]
     },
     "execution_count": 30,
     "metadata": {},
     "output_type": "execute_result"
    }
   ],
   "source": [
    "evaluate_wsd(wsd_lesk, senses2, sentences)"
   ]
  },
  {
   "cell_type": "markdown",
   "metadata": {},
   "source": [
    "**2c.** En fixant au mieux la taille de la fenêtre autour de *interest*, quel est le meilleur score de la méthode de Lesk simplifiée ?  Quelle liste de sens conduit à de meilleurs scores, `senses1` ou `senses2` ?"
   ]
  },
  {
   "cell_type": "code",
   "execution_count": 31,
   "metadata": {},
   "outputs": [
    {
     "name": "stdout",
     "output_type": "stream",
     "text": [
      "Score for window size of 2 + senses1 :  0.1658952702702703\n",
      "Score for window size of 2 + senses2 :  0.17493243243243245\n",
      "Score for window size of 4 + senses1 :  0.17081503378378377\n",
      "Score for window size of 4 + senses2 :  0.18317145270270271\n",
      "Score for window size of 6 + senses1 :  0.17251689189189187\n",
      "Score for window size of 6 + senses2 :  0.19202702702702695\n",
      "Score for window size of 8 + senses1 :  0.17755912162162166\n",
      "Score for window size of 8 + senses2 :  0.19424831081081084\n",
      "Score for window size of 10 + senses1 :  0.1794467905405406\n",
      "Score for window size of 10 + senses2 :  0.20149915540540536\n",
      "Score for window size of 12 + senses1 :  0.18223817567567566\n",
      "Score for window size of 12 + senses2 :  0.2067567567567567\n",
      "Score for window size of 14 + senses1 :  0.18001266891891887\n",
      "Score for window size of 14 + senses2 :  0.20714949324324322\n",
      "Score for window size of 16 + senses1 :  0.17936655405405413\n",
      "Score for window size of 16 + senses2 :  0.2099408783783785\n",
      "Score for window size of 18 + senses1 :  0.17996621621621628\n",
      "Score for window size of 18 + senses2 :  0.21187499999999995\n",
      "Score for window size of 20 + senses1 :  0.18045185810810807\n",
      "Score for window size of 20 + senses2 :  0.21032094594594594\n",
      "Score for window size of 22 + senses1 :  0.17956503378378386\n",
      "Score for window size of 22 + senses2 :  0.2131630067567567\n",
      "Score for window size of 24 + senses1 :  0.1777829391891891\n",
      "Score for window size of 24 + senses2 :  0.215\n",
      "Score for window size of 26 + senses1 :  0.17938766891891889\n",
      "Score for window size of 26 + senses2 :  0.21888513513513516\n",
      "Score for window size of 28 + senses1 :  0.179835304054054\n",
      "Score for window size of 28 + senses2 :  0.22139358108108106\n"
     ]
    }
   ],
   "source": [
    "ITERATIONS_COUNT = 100\n",
    "senses_list = [senses1, senses2]\n",
    "for window_size in range(2, 30, 2):\n",
    "    for i, definitions in enumerate(senses_list):\n",
    "        score = 0\n",
    "        for _ in range(ITERATIONS_COUNT):\n",
    "            score += evaluate_wsd(wsd_lesk, definitions, sentences, window_size)\n",
    "        score /= ITERATIONS_COUNT\n",
    "\n",
    "        print(f\"Score for window size of {window_size} + senses{i+1} : \", score)\n",
    "\n",
    "\n"
   ]
  },
  {
   "cell_type": "markdown",
   "metadata": {},
   "source": [
    "*Réponse :*\n",
    "\n",
    "Étant donné qu'il y a une partie \"aléatoire\" dans la recherche de la meilleure définition, nous avons mis en place une moyenne sur 100 itérations.\n",
    "\n",
    "On constate qu'il ne semble pas il y avoir une limite supérieure pour la taille de la fenêtre. En d'autres termes, plus la fenêtre est grande, mieux c'est. On remarque également que \n",
    "De manière générale, senses1 donne toujours de moins bon scores que senses2, qui est plus riche en mots."
   ]
  },
  {
   "cell_type": "markdown",
   "metadata": {},
   "source": [
    "## 3. Utilisation de word2vec pour la similarité contexte vs. synset\n",
    "\n",
    "**3a.** En réutilisant une partie du code de `wsd_lesk`, veuillez maintenant définir une fonction `wsd_word2vec(senses, sentence)` qui choisit le sens en utilisant la similarité **word2vec** étudiée dans le labo précédent. \n",
    "* Vous pouvez chercher dans la [documentation des KeyedVectors](https://radimrehurek.com/gensim/models/keyedvectors.html) comment calculer directement la similarité entre deux listes de mots.\n",
    "* Comme `wsd_lesk`, la nouvelle fonction `wsd_word2vec` prend en argument une liste de listes de mots-clés par sens (comme `senses1` et `senses2` ci-dessus), et une phrase avec une occurrence annotée de *interest* ou *interests*.\n",
    "* La fonction retourne le numéro du sens le plus probable selon la similarité word2vec entre les mots du sens et ceux du voisinage de *interest*.  En cas d'égalité, tirer le sens au sort.\n",
    "* Vous pouvez régler la taille du voisinage (`window_size`) par l'expérimentation.  "
   ]
  },
  {
   "cell_type": "code",
   "execution_count": 16,
   "metadata": {},
   "outputs": [],
   "source": [
    "import gensim\n",
    "from gensim.models import KeyedVectors\n",
    "path_to_model = \"../Labo5/data/GoogleNews-vectors-negative300.bin\" # à adapter\n",
    "wv_model = gensim.models.KeyedVectors.load_word2vec_format(path_to_model, binary=True)  # C bin format"
   ]
  },
  {
   "cell_type": "code",
   "execution_count": 35,
   "metadata": {},
   "outputs": [],
   "source": [
    "import math\n",
    "\n",
    "def wsd_word2vec(senses, sentence, window_size=8):\n",
    "    best_indices = []\n",
    "    best_score = -math.inf\n",
    "\n",
    "    context = get_neighbors_of_word(sentence, window_size)\n",
    "    for i, sense in enumerate(senses):\n",
    "        score = wv_model.n_similarity(context, sense)\n",
    "        if score > best_score:\n",
    "            best_score = score\n",
    "            best_indices = [i]\n",
    "        if score == best_score:\n",
    "            best_indices.append(i)\n",
    "\n",
    "    return random.choice(best_indices) + 1\n"
   ]
  },
  {
   "cell_type": "markdown",
   "metadata": {},
   "source": [
    "**3b.** Appliquez maintenant la même méthode `evaluate_wsd` avec la fonction `wsd_word2vec` (en cherchant une bonne valeur de la taille de la fenêtre) et affichez le score de la similarité word2vec.  Comment se compare-t-il avec le score précédent (Lesk) ?"
   ]
  },
  {
   "cell_type": "code",
   "execution_count": 66,
   "metadata": {},
   "outputs": [
    {
     "name": "stdout",
     "output_type": "stream",
     "text": [
      "Score for window size of 2 + senses1 :  0.17145270270270271\n",
      "Score for window size of 2 + senses2 :  0.25506756756756754\n",
      "Score for window size of 4 + senses1 :  0.265625\n",
      "Score for window size of 4 + senses2 :  0.5464527027027027\n",
      "Score for window size of 6 + senses1 :  0.265625\n",
      "Score for window size of 6 + senses2 :  0.5477195945945946\n",
      "Score for window size of 8 + senses1 :  0.3125\n",
      "Score for window size of 8 + senses2 :  0.5570101351351351\n",
      "Score for window size of 10 + senses1 :  0.3374155405405405\n",
      "Score for window size of 10 + senses2 :  0.5561655405405406\n",
      "Score for window size of 12 + senses1 :  0.3454391891891892\n",
      "Score for window size of 12 + senses2 :  0.5519425675675675\n",
      "Score for window size of 14 + senses1 :  0.3483952702702703\n",
      "Score for window size of 14 + senses2 :  0.551097972972973\n",
      "Score for window size of 16 + senses1 :  0.34755067567567566\n",
      "Score for window size of 16 + senses2 :  0.5375844594594594\n",
      "Score for window size of 18 + senses1 :  0.3559966216216216\n",
      "Score for window size of 18 + senses2 :  0.535472972972973\n",
      "Score for window size of 20 + senses1 :  0.3576858108108108\n",
      "Score for window size of 20 + senses2 :  0.5228040540540541\n",
      "Score for window size of 22 + senses1 :  0.36908783783783783\n",
      "Score for window size of 22 + senses2 :  0.527027027027027\n",
      "Score for window size of 24 + senses1 :  0.37119932432432434\n",
      "Score for window size of 24 + senses2 :  0.5274493243243243\n",
      "Score for window size of 26 + senses1 :  0.36993243243243246\n",
      "Score for window size of 26 + senses2 :  0.5266047297297297\n",
      "Score for window size of 28 + senses1 :  0.36317567567567566\n",
      "Score for window size of 28 + senses2 :  0.5109797297297297\n"
     ]
    }
   ],
   "source": [
    "senses_list = [senses1, senses2]\n",
    "for window_size in range(2, 30, 2):\n",
    "    for i, definitions in enumerate(senses_list):\n",
    "        score = evaluate_wsd(wsd_word2vec, definitions, sentences, window_size)\n",
    "\n",
    "        print(f\"Score for window size of {window_size} + senses{i+1} : \", score)"
   ]
  },
  {
   "cell_type": "markdown",
   "metadata": {},
   "source": [
    "*Réponse :*\n",
    "\n",
    "La fenêtre optimale semble se trouver entre 8 et 14 où on obtient une accuracy autour de ***0.55***.\n",
    "\n",
    "De nouveau, on remarque que senses2 donne de meilleurs résultats que senses1, probablement dû au fait que senses2 est plus riche en mots."
   ]
  },
  {
   "cell_type": "markdown",
   "metadata": {},
   "source": [
    "## 4. Classification supervisée avec des traits lexicaux\n",
    "Vous entraînerez maintenant des classifieurs pour prédire le sens d'une occurrence dans une phrase.  Le premier but sera de transformer chaque phrase en un ensemble d'attributs pour formater les données en vue des expériences de classification.\n",
    "\n",
    "Veuillez utiliser le classifieur `NaiveBayesClassifier` fourni par NLTK.  Le mode d'emploi se trouve dans le [Chapitre 6, sections 1.1-1.3](https://www.nltk.org/book/ch06.html) du livre NLTK.  Consultez-le attentivement pour trouver comment formater les données.  De plus, il faudra séparer les données en sous-ensembles d'entraînement et de test."
   ]
  },
  {
   "cell_type": "markdown",
   "metadata": {},
   "source": [
    "On vous propose de nommer les attributs `word-k`, ..., `word-2`, `word-1`, `word+1`, `word+2`, ..., `word+k` (fenêtre de taille `2*k` autour de *interest*).  Leurs valeurs sont les mots observés aux emplacements respectifs, ou `NONE` si la position dépasse l'étendue de la phrase.  Vous ajouterez un attribut nommé `word0` qui est l'occurrence du mot *interest* au singulier ou au pluriel.  \n",
    "\n",
    "Pour chaque occurrence de *interest*, vous devrez donc créer la représentation suivante (où `6` est le numéro du sens, essentiel pour l'entraînement, mais à cacher lors de l'évaluation) :\n",
    "```\n",
    "[{'word-1': 'in', 'word+1': 'rates', 'word-2': 'declines', 'word+2': 'NONE', 'word0': 'interest'}, 6]\n",
    "```\n",
    "\n",
    "**4a.** En partant de la liste des phrases appelée `sentences` préparée plus haut, veuillez générer la liste avec toutes les représentation, appelée `items_with_features`.  Vous pouvez vous aider du livre NLTK."
   ]
  },
  {
   "cell_type": "code",
   "execution_count": null,
   "metadata": {},
   "outputs": [
    {
     "name": "stdout",
     "output_type": "stream",
     "text": [
      "2368\n",
      "[[{'word-1': 'investor', 'word+1': 'in', 'word+2': 'stock', 'word+3': 'funds', 'word+4': '``', 'word+5': 'has', 'word+6': \"n't\", 'word+7': 'stalled', 'word+8': 'at', 'word+9': 'all', 'word+10': ',', 'word+11': \"''\", 'word+12': 'mr.', 'word+13': 'hines', 'word+14': 'maintains', 'word+15': '.', 'word0': 'interest_1'}, 1], [{'word-6': \"''\", 'word-5': 'it', 'word-4': 'is', 'word-3': 'in', 'word-2': 'the', 'word-1': 'western', 'word+1': 'to', 'word+2': 'see', 'word+3': 'mr.', 'word+4': 'gorbachev', 'word+5': 'succeed', 'word+6': '.', 'word0': 'interest_4'}, 4], [{'word-11': 'revco', 'word-10': 'insists', 'word-9': 'that', 'word-8': 'the', 'word-7': 'proposal', 'word-6': 'is', 'word-5': 'simply', 'word-4': 'an', 'word-3': '``', 'word-2': 'expression', 'word-1': 'of', 'word+1': ',', 'word+2': \"''\", 'word+3': 'because', 'word+4': 'under', 'word+5': 'chapter', 'word+6': '11', 'word+7': 'revco', 'word+8': 'has', 'word+9': '``', 'word+10': 'exclusivity', 'word+11': 'rights', 'word+12': \"''\", 'word+13': 'until', 'word+14': 'feb.', 'word+15': '28', 'word+16': '.', 'word0': 'interest_1'}, 1]]\n"
     ]
    }
   ],
   "source": [
    "items_with_features = []\n",
    "\n",
    "def build_key(idx, center_idx):\n",
    "    diff = abs(idx - center_idx)\n",
    "    sign = '-' if idx < center_idx else '+'\n",
    "    return 'word'+sign+str(diff)\n",
    "\n",
    "def extract_number(interest_str):\n",
    "    return int(interest_str.split('_')[1])\n",
    "\n",
    "for s in sentences:\n",
    "    word0_idx = find_index_of_interest(s)\n",
    "    features = {}\n",
    "    for i, word in enumerate(s):\n",
    "        if i is not word0_idx:\n",
    "            features[build_key(i, word0_idx)] = word\n",
    "    features['word0'] = s[word0_idx]\n",
    "    items_with_features.append([features, extract_number(s[word0_idx])])\n",
    "\n",
    "\n",
    "print(len(items_with_features))\n",
    "print(items_with_features[151:154])"
   ]
  },
  {
   "cell_type": "markdown",
   "metadata": {},
   "source": [
    "**4b.** Veuillez séparer les données aléatoirement en 80% pour l'entraînement et 20%  pour l'évaluation.  Veuillez faire une division stratifiée : les deux sous-ensembles doivent contenir les mêmes proportions de sens que l'ensemble de départ.  Ils seront appelés `iwf_train` et `iwf_test`."
   ]
  },
  {
   "cell_type": "code",
   "execution_count": 48,
   "metadata": {},
   "outputs": [
    {
     "name": "stdout",
     "output_type": "stream",
     "text": [
      "1894   474\n",
      "[({'word-4': 'ms.', 'word-3': 'negus', 'word-2': 'noted', 'word-1': 'that', 'word+1': 'rates', 'word+2': 'generally', 'word+3': 'declined', 'word+4': 'following', 'word+5': 'friday', 'word+6': \"'s\", 'word+7': 'employment', 'word+8': 'report', 'word+9': '.', 'word0': 'interest_6'}, 6), ({'word-33': 'in', 'word-32': 'a', 'word-31': 'filing', 'word-30': 'with', 'word-29': 'the', 'word-28': 'securities', 'word-27': 'and', 'word-26': 'exchange', 'word-25': 'commission', 'word-24': ',', 'word-23': 'parsow', 'word-22': 'and', 'word-21': 'elkhorn', 'word-20': ',', 'word-19': 'which', 'word-18': 'together', 'word-17': 'hold', 'word-16': '8.685', 'word-15': '%', 'word-14': 'of', 'word-13': 'caci', 'word-12': \"'s\", 'word-11': 'common', 'word-10': 'shares', 'word-9': ',', 'word-8': 'said', 'word-7': 'they', 'word-6': 'think', 'word-5': 'it', 'word-4': 'is', 'word-3': 'in', 'word-2': 'the', 'word-1': 'best', 'word+1': 'of', 'word+2': 'caci', 'word+3': 'stockholders', 'word+4': 'that', 'word+5': 'the', 'word+6': 'company', 'word+7': 'be', 'word+8': 'sold', 'word+9': '.', 'word0': 'interest_4'}, 4)] [({'word-40': 'earlier', 'word-39': 'this', 'word-38': 'month', 'word-37': ',', 'word-36': 'van', 'word-35': 'kampen', 'word-34': 'merritt', 'word-33': ',', 'word-32': 'an', 'word-31': 'investment', 'word-30': 'banking', 'word-29': 'unit', 'word-28': 'of', 'word-27': 'xerox', 'word-26': 'corp.', 'word-25': ',', 'word-24': 'announced', 'word-23': 'a', 'word-22': 'bid', 'word-21': 'to', 'word-20': 'buy', 'word-19': 'syncor', 'word-18': \"'s\", 'word-17': 'for', 'word-16': 'about', 'word-15': '$', 'word-14': '81.8', 'word-13': 'million', 'word-12': ',', 'word-11': 'but', 'word-10': 'it', 'word-9': 'dropped', 'word-8': 'the', 'word-7': 'bid', 'word-6': 'due', 'word-5': 'to', 'word-4': 'syncor', 'word-3': \"'s\", 'word-2': 'lack', 'word-1': 'of', 'word+1': '.', 'word0': 'interest_1'}, 1), ({'word-6': 'the', 'word-5': 'spread', 'word-4': 'between', 'word-3': 'national', 'word-2': 'city', 'word-1': \"'s\", 'word+1': 'income', 'word+2': 'on', 'word+3': 'loans', 'word+4': 'and', 'word+5': 'its', 'word+6': 'cost', 'word+7': 'of', 'word+8': 'funds', 'word+9': 'was', 'word+10': 'particularly', 'word+11': 'favorable', 'word+12': 'in', 'word+13': 'the', 'word+14': 'first', 'word+15': 'half', 'word+16': ',', 'word+17': 'officials', 'word+18': 'said', 'word+19': '.', 'word0': 'interest_6'}, 6)]\n"
     ]
    }
   ],
   "source": [
    "from random import shuffle\n",
    "from sklearn.model_selection import train_test_split\n",
    "\n",
    "iwf_train = []\n",
    "iwf_test  = []\n",
    "\n",
    "features = [item[0] for item in items_with_features]\n",
    "labels = [item[1] for item in items_with_features]\n",
    "\n",
    "X_train, X_test, y_train, y_test = train_test_split(features, labels, test_size=0.2, stratify=labels, random_state=13042001)\n",
    "\n",
    "iwf_train = list(zip(X_train, y_train))\n",
    "iwf_test = list(zip(X_test, y_test))\n",
    "\n",
    "print(len(iwf_train), ' ', len(iwf_test))\n",
    "print(iwf_test[:2], iwf_test[-2:])"
   ]
  },
  {
   "cell_type": "markdown",
   "metadata": {},
   "source": [
    "**4c.** Veuillez créer une instance de `NaiveBayesClassifier`, l'entraîner sur `iwf_train` et la tester sur `iwf_test` (voir la documentation NLTK).  En expérimentant avec différentes largeurs de fenêtres, quel est le meilleur score que vous obtenez (avec la fonction `accuracy` de NLTK) sur l'ensemble de test ?  Comment se compare-t-il avec les précédents ?"
   ]
  },
  {
   "cell_type": "code",
   "execution_count": null,
   "metadata": {},
   "outputs": [
    {
     "name": "stdout",
     "output_type": "stream",
     "text": [
      "0.7869198312236287\n"
     ]
    }
   ],
   "source": [
    "from nltk.classify import naivebayes \n",
    "\n",
    "model = naivebayes.NaiveBayesClassifier.train(iwf_train)\n",
    "\n",
    "print(nltk.classify.accuracy(model, iwf_test))\n"
   ]
  },
  {
   "cell_type": "markdown",
   "metadata": {},
   "source": [
    "**4d.** En utilisant la fonction `show_most_informative_features()`, veuillez afficher les attributs les plus informatifs et commenter le résultat."
   ]
  },
  {
   "cell_type": "code",
   "execution_count": 54,
   "metadata": {},
   "outputs": [
    {
     "name": "stdout",
     "output_type": "stream",
     "text": [
      "Most Informative Features\n",
      "                  word+1 = 'in'                1 : 6      =    103.6 : 1.0\n",
      "                  word-1 = 'other'             3 : 6      =     46.2 : 1.0\n",
      "                  word+1 = 'of'                4 : 6      =     43.1 : 1.0\n",
      "                  word-7 = None                6 : 2      =     36.7 : 1.0\n",
      "                 word-10 = None                6 : 2      =     31.2 : 1.0\n",
      "                  word-5 = None                6 : 3      =     29.1 : 1.0\n",
      "                  word-4 = 'after'             5 : 6      =     28.2 : 1.0\n",
      "                  word+4 = None                6 : 2      =     28.1 : 1.0\n",
      "                 word+11 = None                6 : 2      =     27.9 : 1.0\n",
      "                  word-9 = None                6 : 2      =     27.5 : 1.0\n",
      "None\n"
     ]
    }
   ],
   "source": [
    "print(model.show_most_informative_features())"
   ]
  },
  {
   "cell_type": "markdown",
   "metadata": {},
   "source": [
    "*Réponse :*\n",
    "\n",
    "Le top 3 des mots les plus importants est intéressant. La signification du mot interest est fortement influencée si il est suivi de 'in' (interest in **something**), de 'of' (interest **of**) ou précédé de 'other' (**other** interest).\n",
    "Ce sont tous les 3 des prépositions. On peut en conclure que les prépositions permettent facilement de discriminer certaines utilisations du mot par rapport à d'autres."
   ]
  },
  {
   "cell_type": "markdown",
   "metadata": {},
   "source": [
    "**4e.** On souhaite également obtenir les scores pour chaque sens.  Pour ce faire, il faut demander les prédictions une par une au classifieur (voir le [livre NLTK](https://www.nltk.org/book/ch06.html)), et comptabiliser les prédictions correctes pour chaque sens.  Vous pouvez vous inspirer de `evaluate_wsd`, et écrire une fonction `evaluate_wsd_supervised(classifier, items_with_features)`, que vous appliquerez aux donnés `iwf_test`.  Veuillez afficher ces scores."
   ]
  },
  {
   "cell_type": "code",
   "execution_count": null,
   "metadata": {},
   "outputs": [
    {
     "data": {
      "text/plain": [
       "<sklearn.metrics._plot.confusion_matrix.ConfusionMatrixDisplay at 0x18ab7f08230>"
      ]
     },
     "execution_count": 57,
     "metadata": {},
     "output_type": "execute_result"
    },
    {
     "data": {
      "image/png": "[encoded data removed]",
      "text/plain": [
       "<Figure size 640x480 with 2 Axes>"
      ]
     },
     "metadata": {},
     "output_type": "display_data"
    }
   ],
   "source": [
    "import matplotlib.pyplot as plt\n",
    "from sklearn.metrics import ConfusionMatrixDisplay\n",
    "\n",
    "predictions = model.classify_many(X_test)\n",
    "\n",
    "ConfusionMatrixDisplay.from_predictions(y_test, predictions)"
   ]
  },
  {
   "cell_type": "code",
   "execution_count": 65,
   "metadata": {},
   "outputs": [
    {
     "name": "stdout",
     "output_type": "stream",
     "text": [
      "              precision    recall  f1-score   support\n",
      "\n",
      "           1       0.92      0.90      0.91        72\n",
      "           2       0.02      0.50      0.04         2\n",
      "           3       0.30      0.85      0.44        13\n",
      "           4       0.67      0.89      0.76        36\n",
      "           5       1.00      0.77      0.87       100\n",
      "           6       1.00      0.75      0.85       251\n",
      "\n",
      "    accuracy                           0.79       474\n",
      "   macro avg       0.65      0.78      0.65       474\n",
      "weighted avg       0.94      0.79      0.84       474\n",
      "\n"
     ]
    }
   ],
   "source": [
    "import numpy as np\n",
    "from sklearn.metrics import classification_report\n",
    "\n",
    "def evaluate_wsd_supervised(classifier, items_with_features):\n",
    "    predictions = model.classify_many([f[0] for f in items_with_features])\n",
    "    expected = [f[1] for f in items_with_features]\n",
    "    return classification_report(expected, predictions)\n",
    "\n",
    "scores_per_class = evaluate_wsd_supervised(model, iwf_test)\n",
    "print(scores_per_class)"
   ]
  },
  {
   "cell_type": "markdown",
   "metadata": {},
   "source": [
    "## 5. Conclusion\n",
    "\n",
    "Veuillez recopier ci-dessous, en guise de conclusion, les scores des trois expériences réalisées, pour pouvoir les comparer d'un coup d'oeil.  Quel est le meilleur score obtenu?"
   ]
  },
  {
   "cell_type": "markdown",
   "metadata": {},
   "source": [
    "*Résultats obtenus :*\n",
    "\n",
    "Scores d'accuracy :\n",
    "- Algorithme de Lesk simplifié : 0.221\n",
    "- WSD basé sur la similarity avec word2vec :  0.5570101351351351\n",
    "- NaiveBayesClassifier : 0.79\n",
    "\n",
    "Le meilleur score a été obtenu avec le NaivesBayesClassifier de NLTK.\n",
    "\n",
    "\n",
    "\n",
    "\n"
   ]
  },
  {
   "cell_type": "markdown",
   "metadata": {},
   "source": [
    "## Fin du laboratoire\n",
    "\n",
    "Merci de nettoyer votre feuille, sauvegarder le résultat, et soumettre le *notebook* sur Cyberlearn."
   ]
  }
 ],
 "metadata": {
  "kernelspec": {
   "display_name": "data-science",
   "language": "python",
   "name": "python3"
  },
  "language_info": {
   "codemirror_mode": {
    "name": "ipython",
    "version": 3
   },
   "file_extension": ".py",
   "mimetype": "text/x-python",
   "name": "python",
   "nbconvert_exporter": "python",
   "pygments_lexer": "ipython3",
   "version": "3.12.7"
  }
 },
 "nbformat": 4,
 "nbformat_minor": 4
}
